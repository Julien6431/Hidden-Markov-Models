{
 "cells": [
  {
   "cell_type": "markdown",
   "metadata": {},
   "source": [
    "<div style=\"font-size:22pt; line-height:25pt; font-weight:bold; text-align:center;\">Modèles de Markov cachés</div>"
   ]
  },
  {
   "cell_type": "markdown",
   "metadata": {},
   "source": [
    "1. [Introduction aux chaînes de Markov](#sec1)\n",
    "2. [Théorie des chaînes de Markov chachées](#sec2)\n",
    "3. [Les trois problèmes fondamentaux](#sec3)\n",
    "4. [Cas d'application : Part-of-Speech tagging](#sec4)"
   ]
  },
  {
   "cell_type": "markdown",
   "metadata": {},
   "source": [
    "# Introduction"
   ]
  },
  {
   "cell_type": "code",
   "execution_count": 1,
   "metadata": {},
   "outputs": [],
   "source": [
    "import numpy as np\n",
    "import matplotlib.pyplot as plt\n",
    "import pandas as pd"
   ]
  },
  {
   "cell_type": "markdown",
   "metadata": {},
   "source": [
    "# 1. <a id=\"sec1\"></a> Introdution aux chaînes de Markov\n",
    "\n",
    "Dans un premier temps, nous allons présenter les principales définitions et proriétés de la théorie des chaînes de Markov. Pour plus de détails, je vous invite à consulter ce [cours](https://personnel.isae-supaero.fr/IMG/pdf/notes_de_cours.pdf) très complet.\n",
    "\n",
    "<div class=\"alert alert-info\"> <b> Notation </b> : On note $(X_n)_{n\\geq0} \\in E^{\\mathbb{N}}$ une suite de variables aléatoires indexée sur $\\mathbb{N}$ et à valeurs dans un ensemble $E$. On la notera plus couramment $(X_n)$ ou encore $X$.</div>\n",
    "\n",
    "## 1.1 Définition\n",
    "\n",
    "<div class=\"alert alert-danger\"><b>Définition 1.1 [Chaîne de Markov]</b> Une suite de variables aléatoires $(X_n)_{n\\geq0}$ à valeurs dans un espace d’état dénombrable (fini ou infini) $E$ est une chaîne de Markov si pour tout $n ≥ 0$ et tout $x_0,...,x_{n+1} \\in E$ on a : $$\\mathbb{P}(X_{n+1} = x_{n+1} | X_n = x_n,...,X_0 = x_0) = P(X_{n+1} = x_{n+1} | X_n = x_n)$$\n",
    "\n",
    "Si par ailleurs $\\mathbb{P}(X_{n+1} =x_{n+1} |X_n =x_n) = \\mathbb{P}(X_1 =x_{n+1} |X_0 = x_n)$, on dit que $(X_n)$ est homogène en temps. </div>\n",
    "\n",
    "  \n",
    "En d'autres termes, une suite de variables aléatoires $(X_n)$ à valeurs dans un espace d’état dénombrable $E$ est donc une chaîne de Markov si conditionnellement au présent, futur et passé sont indépendants. Un exemple trivial de chaîne de Markov est le cas où les $X_i$ sont indépendantes et identiquement distribuées (i.i.d.). \n",
    "\n",
    "<div class=\"alert alert-success\"> Dans tout le notebook, conformément à nos cas d'applications, nous allons considérer des chaînes de Markov dans un espace d'état $E$ <b>dénombrable</b> (fini ou infini) et <b>homogènes en temps.</b></div>\n",
    "\n",
    "Pour une chaîne de Markov homogène en temps, la probabilité $\\mathbb{P}(X_{n+1} = y | X_n = x)$ ne dépend donc pas du temps : on appelle cette probabilité **probabilité de transition** (de $x$ à $y$) et on la note $$p_{xy} =P(X_{n+1} = y|X_n = x)=P(X_1 = y|X_0 = x)$$ \n",
    "\n",
    "<div class=\"alert alert-danger\"><b>Définition 1.2 [Matrice de transition] </b> L’ensemble des probabilités de transition définit la matrice de transition notée $P$ et définie par : $$P=(p_{xy})_{x,y \\in E}$$</div>\n",
    "\n",
    "Si $E$ est infini, $P$ est alors une \"matrice infinie\".  \n",
    "$P$ est une matrice stochastique, c'est à dire qu'elle vérifie les propriétés suivantes : \n",
    "\n",
    "$$\n",
    "\\left\\{\n",
    "    \\begin{array}{rl}\n",
    "        \\forall x,y \\in E, & p_{xy} \\geq 0 \\\\\n",
    "        \\forall x \\in E, & \\sum_{y\\in E} p_{xy} = 1\n",
    "    \\end{array}\n",
    "\\right.\n",
    "$$\n",
    "\n",
    "Les deux conditions nous permettent d'affirmer que $\\forall x,y \\in E,  p_{xy} \\in [0,1]$. Il s'agit donc bien de probabilités. De plus, la seconde condition nous dit que pour chaque ligne, la somme de ses éléments vaut $1$. Cela veut dire qu'en partant d'un état $x \\in E$ à l'instant $n$, on va aller dans un état de $E$ à l'instant $n+1$ presque sûrement ($\\mathbb{P}(X_1 \\in E | X_0 = x) = 1$ pour tout $x \\in E$).\n",
    "\n",
    "## 1.2 Premiers exemples\n",
    "\n",
    "Donnons quelques exemples classiques de chaînes de Markov homogènes en temps et sur un espace d'état dénombrable : \n",
    "\n",
    "* **Exemple 1** : Chaîne de Markov à 2 états sur $E = \\{0,1\\}$.\n",
    "<img src=\"Images/Markov.png\" width=\"600px\"></img>\n",
    "On a : $p_{0,1} = p_{1,0} = 1 - p_{0,0} = 1 - p_{1,1} = p \\in [0,1]$, et donc la matrice de transition est donnée par $P = \\begin{pmatrix} 1-p & p \\\\ p & 1-p \\end{pmatrix}$ qui est bien stochastique.\n",
    "En d'autres termes, on change d'état avec une probabilité $p$ et on reste dans le même état avec une probabilité $1-p$.  \n",
    "\n",
    "* **Exemple 2** : Marche aléatoire réfléchie sur $E = \\mathbb{N}$ : \n",
    "<img src=\"Images/MarkovN.png\" width=\"600px\"></img>\n",
    "On a : $p_{x,x+1} = 1 - p_{x,x-1} = p$ pour $x>0$ et $p_{0,1} = 1 - p_{0,0} = p$, et donc la matrice de transition est donnée par la \"matrice\" infinie $P = \\begin{pmatrix} 1-p & p & 0 & 0 & ...\\\\ \n",
    "                                    1-p & 0 & p & 0 & ...\\\\\n",
    "                                    0 & 1-p & 0 & p & ...\\\\\n",
    "                                    0 & 0 & 1-p & 0 & ...\\\\\n",
    "                                    ... & ... & ...& ... & ...\\end{pmatrix}$ \n",
    "qui est stochastique. Autrement dit, dans tous les cas, on va à droite avec une probabilité $p$. En revanche, si on est en $x>0$, on va à gauche avec une probabilité $1-p$ et si on est en $x=0$, on reste en $0$ avec une probabilité $1-p$."
   ]
  },
  {
   "cell_type": "code",
   "execution_count": 2,
   "metadata": {},
   "outputs": [],
   "source": [
    "def marche_aleatoire_N(p,n_max = 100):\n",
    "    \"\"\"Retourne une réalisation de la marche aléatoire réfléchie sur N\n",
    "    0 <= p <= 1\n",
    "    n_max :entier naturel\"\"\"\n",
    "    steps = np.random.choice([-1,1],replace=True,size = n_max,p=[1-p,p])\n",
    "    marche = np.zeros(n_max+1)\n",
    "    for n in range(1,n_max+1):\n",
    "        if marche[n-1] == 0:\n",
    "            marche[n] = (1 if steps[n-1] == 1 else 0)\n",
    "        else:\n",
    "            marche[n] = marche[n-1] + steps[n-1]\n",
    "    return marche"
   ]
  },
  {
   "cell_type": "code",
   "execution_count": 3,
   "metadata": {},
   "outputs": [
    {
     "data": {
      "text/plain": [
       "<matplotlib.legend.Legend at 0x7fb1f53a52b0>"
      ]
     },
     "execution_count": 3,
     "metadata": {},
     "output_type": "execute_result"
    },
    {
     "data": {
      "image/png": "[encoded data removed]",
      "text/plain": [
       "<Figure size 864x576 with 1 Axes>"
      ]
     },
     "metadata": {
      "needs_background": "light"
     },
     "output_type": "display_data"
    }
   ],
   "source": [
    "probas = np.arange(.1,1,.1)\n",
    "fig,ax = plt.subplots(figsize=(12,8))\n",
    "for p in probas:\n",
    "    marche = marche_aleatoire_N(p)\n",
    "    ax.plot(marche,label=\"p = \" + str(np.round(p,1)))\n",
    "ax.grid()\n",
    "ax.set_xlabel(\"n\")\n",
    "ax.set_ylabel(\"position dans N\")\n",
    "ax.set_title(\"Réalisations d'une marche aléatoire réfléchie sur N\")\n",
    "ax.legend()"
   ]
  },
  {
   "cell_type": "markdown",
   "metadata": {},
   "source": [
    "* **Exemple fil rouge** : Chaîne de Markov à 3 états : \n",
    "<img src=\"Images/FilRouge.png\" width=\"600px\"></img>\n",
    "Considérons la chaîne de Markov représentée par ce graphe d'état. Pour $n\\geq0$, on pose $X_n$ le temps qu'il fait le jour $n$, de telle sorte que la météo au jour $n$ ne dépend que de la météo au jour $n-1$. $(X_n)$ est donc bien une chaîne de Markov et elle peut prendre 3 valeurs : *sunshine* (état $0$), *rain* (état $1$) et *snow* (état $2$).  \n",
    "La matrice de transition est donnée par $P = \\begin{pmatrix} 0.5 & 0.3 & 0.2\\\\ \n",
    "                                    0.45 & 0.45 & 0.1 \\\\\n",
    "                                    0.4 & 0.3 & 0.3 \\end{pmatrix}$ \n",
    "qui est stochastique. \n",
    "Par exemple, s'il pleut lundi, il y a 45% de chance qu'il fasse beau mardi et 10% de chance qu'il neige mardi.\n",
    "\n",
    "<div class=\"alert alert-success\"> <b> Convention </b> : Pour toutes les parties informatiques, nous allons utiliser des numpy arrays pour manipuler les différentes matrices et les vecteurs. L'indexation nécessite l'utilisation d'entiers et non d'états tels que \"sunshine\" par exemple.\n",
    "\n",
    "C'est pourquoi nous allons associer un entier à chaque état $x \\in E$. Nous allons stocker les correspondances dans un dictionnaire : <i>sunshine : 0</i>, <i>rain : 1</i> et <i>snow : 2</i></div>\n",
    "\n",
    "Démarrons l'implémentation de notre exemple fil rouge :"
   ]
  },
  {
   "cell_type": "code",
   "execution_count": 4,
   "metadata": {},
   "outputs": [],
   "source": [
    "#Définition de l'espace d'états\n",
    "etats = {\"sunshine\" : 0, \"rain\" : 1, \"snow\" : 2}\n",
    "inv_etats = dict((n,k) for k, n in etats.items())\n",
    "liste_etats = list(etats.keys())"
   ]
  },
  {
   "cell_type": "code",
   "execution_count": 5,
   "metadata": {},
   "outputs": [
    {
     "name": "stdout",
     "output_type": "stream",
     "text": [
      "Matrice de transition :\n",
      "          sunshine  rain snow\n",
      "sunshine     0.50  0.30  0.2\n",
      "rain         0.45  0.45  0.1\n",
      "snow         0.40  0.30  0.3\n"
     ]
    }
   ],
   "source": [
    "#Définition de la matrice de transition\n",
    "df = pd.DataFrame(columns=liste_etats, index=liste_etats)\n",
    "df.loc[liste_etats[0]] = [.5,.3,.2]\n",
    "df.loc[liste_etats[1]] = [.45,.45,.1]\n",
    "df.loc[liste_etats[2]] = [.4,.3,.3]\n",
    "print(\"Matrice de transition :\\n\", df)"
   ]
  },
  {
   "cell_type": "code",
   "execution_count": 6,
   "metadata": {},
   "outputs": [
    {
     "name": "stdout",
     "output_type": "stream",
     "text": [
      "P est stochastique\n"
     ]
    }
   ],
   "source": [
    "P = df.values.astype('float')\n",
    "n_etat = P.shape[0]\n",
    "#Vérification des conditions d'une matrice stochastique\n",
    "sum_per_row = np.sum(P,axis = 1)\n",
    "is_positive = P>=0\n",
    "if (np.sum(is_positive) == n_etat**2) and (np.sum(sum_per_row == n_etat*[1]) == n_etat):\n",
    "    print(\"P est stochastique\")\n",
    "else:\n",
    "    print(\"P n'est pas stochastique\")"
   ]
  },
  {
   "cell_type": "code",
   "execution_count": 7,
   "metadata": {},
   "outputs": [
    {
     "name": "stdout",
     "output_type": "stream",
     "text": [
      "1 : ['sunshine', 'sunshine', 'sunshine', 'rain', 'rain', 'sunshine']\n",
      "2 : ['sunshine', 'rain', 'sunshine', 'snow', 'sunshine', 'sunshine']\n",
      "3 : ['sunshine', 'sunshine', 'rain', 'rain', 'sunshine', 'sunshine']\n",
      "4 : ['sunshine', 'sunshine', 'sunshine', 'sunshine', 'rain', 'sunshine']\n",
      "5 : ['sunshine', 'sunshine', 'sunshine', 'sunshine', 'rain', 'rain']\n"
     ]
    }
   ],
   "source": [
    "def markov_chain(n_max):\n",
    "    \"\"\"Retourne une réalisation entre 0 et n_max de l'exemple fil rouge en partant de 0 à l'instant 0\n",
    "    n_max : entier naturel\"\"\"\n",
    "    X_n = np.zeros(n_max+1,dtype=int)\n",
    "    for j in range(n_max):\n",
    "        X_n[j+1] = np.random.choice([0,1,2],size=1,p=list(P[X_n[j]]))\n",
    "    return X_n\n",
    "\n",
    "for i in range(5):\n",
    "    X_n = markov_chain(5)\n",
    "    print(\"{} : {}\".format(i+1,[inv_etats[x] for x in X_n]))"
   ]
  },
  {
   "cell_type": "markdown",
   "metadata": {},
   "source": [
    "## 1.3 Loi d'une chaîne de Markov\n",
    "\n",
    "<div class=\"alert alert-danger\"><b>Définition 1.3 [Loi d’un processus] </b> La loi d’une suite de variables aléatoires $(X_n)_{n\\geq0}$ est la donnée de $\\mathbb{P}(X_0 = x_0,...,X_n = x_n)$ pour tout $n \\geq 0$ et tout $x_0,...,x_n \\in E$.</div>\n",
    "\n",
    "<div class=\"alert alert-info\"> <b> Notation </b> : Pour simplifier à partir de maintenant, pour tout $n\\geq0$ on note $X_0^n = (X_k)_{k \\in [0,n]}$ la chaîne tuée à l’instant $n$ et $x_0^n = (x_k)_{k \\in [0,n]}$ une séquence d'états entre les instants $0$ et $n$.</div>\n",
    "\n",
    "<div class=\"alert alert-warning\"><b>Théorème 1.1 </b> : Si $X$ est une chaîne de Markov de matrice de transition $P$, alors pour tout $n\\geq0$ et $x_0^n \\in E^{n+1}$, on a : $$\\mathbb{P}(X_0^n = x_0^n) = \\mathbb{P}(X_0 = x_0)\\prod_{i=1}^n p_{x_{i−1}x_i}.$$</div>\n",
    "\n",
    "Pour calculer la loi de la chaîne de Markov, nous avons donc besoin de conditions initiales $\\mathbb{P}(X_0 = 0)$, $\\mathbb{P}(X_0 = 1)$ et $\\mathbb{P}(X_0 = 2)$. Pour l'instant, dans notre exemple fil rouge on ne les connaît pas. On va donc supposer que l'on part de $0$ de telle sorte que $\\mathbb{P}(X_0 = 0) = 1$, et on va calculer la probabilité d'une certaine réalisation $x_0,...,x_n \\in E$ avec la formule ci-dessus."
   ]
  },
  {
   "cell_type": "code",
   "execution_count": 8,
   "metadata": {},
   "outputs": [
    {
     "name": "stdout",
     "output_type": "stream",
     "text": [
      "P(X_0^3 = ['sunshine', 'snow', 'snow', 'rain']) = 0.018\n"
     ]
    }
   ],
   "source": [
    "#Sachant que l'on part de 0, calcul de la probabilité d'une réalisation\n",
    "n = 3\n",
    "realisation = np.random.randint(0,3,n+1)\n",
    "realisation[0] = 0 #X0 = 0\n",
    "realisation_etat = [inv_etats[n] for n in realisation]\n",
    "proba = 1\n",
    "for i in range(1,n+1):\n",
    "    proba *= P[realisation[i-1],realisation[i]]\n",
    "print(\"P(X_0^{} = {}) = {}\" .format(n, realisation_etat,proba))"
   ]
  },
  {
   "cell_type": "markdown",
   "metadata": {},
   "source": [
    "La matrice $P$ ne caractérise pas pleinement la loi de $X$ : il faut une condition initiale $(\\mathbb{P}(X_0 = x_0))_{x_0 \\in E}$. \n",
    "\n",
    "<div class=\"alert alert-info\"> <b> Notation </b> : À partir de maintenant, on notera $\\pi_0$ la condition initiale, avec $\\pi_0 = (\\pi_0(x))_{x \\in E}$ et $\\pi_0(x) = \\mathbb{P}(X_0 = x)$. \n",
    "    \n",
    "On note également $\\pi_n$ la loi de $X_n$, i.e. $\\pi_n = (\\pi_n(x))_{x \\in E}$ avec $\\pi_n(x) = \\mathbb{P}(X_n = x)$.\n",
    "    \n",
    "Pour tout $n\\geq0$, $\\pi_n$ est donc un vecteur colonne de $[0,1]^{E}$ contenant les probabilités $\\mathbb{P}(X_n = x)$ pour tout $x\\in E$.</div>\n",
    "\n",
    "\n",
    "<div class=\"alert alert-warning\"><b>Théorème 1.2 </b> : La suite des lois $(\\pi_n)_{n \\geq 0}$ vérifie le système dynamique linéaire déterministe suivant : $$\\forall n \\geq 0, \\ \\pi^T_{n+1} = \\pi^T_n P$$\n",
    "En particulier, $\\forall n \\geq 0, \\ \\pi_n^T = \\pi_0^T P^n$.</div>\n",
    "\n",
    "La loi de $(X_n)$ est alors pleinement définit par $P$ et $\\pi_0$. On peut donc désigner une chaîne de Markov homogène en temps par le couple $(\\pi_0,P)$.\n",
    "\n",
    "Démonstration du théorème 1.2 : Pour $n \\geq 0$ et $x \\in E$ on a : $$\\pi_{n+1}(x) = \\mathbb{P}(X_{n+1} = x) = \\sum_{y\\in E}\\mathbb{P}(X_{n+1} =x|X_n =y)\\mathbb{P}(X_n = y) = \\sum_{y \\in E} p_{yx}\\pi_n(y) = (\\pi_n^T P)_x$$\n",
    "\n",
    "Dans notre exemple fil rouge, nous allons fixer une condition initiale (ie définir $\\pi_0$) et nous serons alors capables de calculer la loi de $X_n$ pour tout $n\\geq0$ avec la dernière formule."
   ]
  },
  {
   "cell_type": "code",
   "execution_count": 9,
   "metadata": {},
   "outputs": [
    {
     "data": {
      "text/plain": [
       "array([0.2, 0.5, 0.3])"
      ]
     },
     "execution_count": 9,
     "metadata": {},
     "output_type": "execute_result"
    }
   ],
   "source": [
    "#Loi initiale\n",
    "pi_0 = np.array([.2, .5, .3])\n",
    "pi_0"
   ]
  },
  {
   "cell_type": "code",
   "execution_count": 10,
   "metadata": {},
   "outputs": [
    {
     "name": "stdout",
     "output_type": "stream",
     "text": [
      "P(X1 = sunshine) = 0.445000, P(X1 = rain) = 0.375000, P(X1 = snow) = 0.180000\n",
      "P(X2 = sunshine) = 0.463250, P(X2 = rain) = 0.356250, P(X2 = snow) = 0.180500\n",
      "P(X3 = sunshine) = 0.464137, P(X3 = rain) = 0.353437, P(X3 = snow) = 0.182425\n",
      "P(X4 = sunshine) = 0.464086, P(X4 = rain) = 0.353016, P(X4 = snow) = 0.182899\n",
      "P(X5 = sunshine) = 0.464059, P(X5 = rain) = 0.352952, P(X5 = snow) = 0.182988\n",
      "P(X6 = sunshine) = 0.464054, P(X6 = rain) = 0.352943, P(X6 = snow) = 0.183004\n",
      "P(X7 = sunshine) = 0.464052, P(X7 = rain) = 0.352941, P(X7 = snow) = 0.183006\n",
      "P(X8 = sunshine) = 0.464052, P(X8 = rain) = 0.352941, P(X8 = snow) = 0.183006\n",
      "P(X9 = sunshine) = 0.464052, P(X9 = rain) = 0.352941, P(X9 = snow) = 0.183007\n",
      "P(X10 = sunshine) = 0.464052, P(X10 = rain) = 0.352941, P(X10 = snow) = 0.183007\n"
     ]
    }
   ],
   "source": [
    "#Calcul de pi_n\n",
    "N = 10\n",
    "pi = pi_0\n",
    "for n in range(N):\n",
    "    pi = pi@P\n",
    "    print(\"P(X%d = sunshine) = %f, P(X%d = rain) = %f, P(X%d = snow) = %f\" % (n+1,pi[0],n+1,pi[1],n+1,pi[2]))"
   ]
  },
  {
   "cell_type": "markdown",
   "metadata": {},
   "source": [
    "Nous savons désormais ce qu'est une chaîne de Markov et nous avons énoncé quelques unes de ses propriétés essentielles. Nous sommmes prêts pour s'attaquer à la théorie des chaînes de Markov cachées. "
   ]
  },
  {
   "cell_type": "markdown",
   "metadata": {},
   "source": [
    "# 2. <a id=\"sec2\"></a> Théorie des modèles de Markov cachés\n",
    "\n",
    "[L'INRIA](http://people.bordeaux.inria.fr/pierre.delmoral/hmm-cappe-moulines-ryden.pdf) présente la théorie des modèles de Markov cachés de manière très mathématique et très formelle (pour les purs matheux) tandis que [Agro ParisTech](http://www2.agroparistech.fr/ufr-info/membres/cornuejols/Teaching/Master-ISI/ISI-10/livre2-v3(ac)-ch-12.pdf), [Kohlschein](https://www.tcs.rwth-aachen.de/lehre/PRICS/WS2006/kohlschein.pdf) et [Standford](https://web.stanford.edu/~jurafsky/slp3/A.pdf) donnent une version plus accessible et plus orientée algorithmie. Ne s'agissant pas d'un cours de mathématiques poussées, nous allons nous contenter l'approche algorithmie. Mais avant toute chose, définissons tout de même ce qu'est un modèle de Markov caché.\n",
    "\n",
    "Dans cette partie nous allons donner les définitions principales de la théorie des modèles de Markov caché ainsi que ses principales propriétés. Nous allons les illustrer à l'aide de l'exemple fil rouge.\n",
    "\n",
    "## 2.1 Motivations - cas de l'exemple fil rouge\n",
    "\n",
    "Afin de comprendre l'intérêt de la théorie des modèles de Markov cachés, complétons notre exemple fil rouge. Nous avons toujours notre chaîne de Markov $(X_n)$ à valeurs dans un espace d'état $E = \\{sunshine,rain,snow\\}$ et de matrice de transition est $P = \\begin{pmatrix} 0.5 & 0.3 & 0.2\\\\ \n",
    "                                    0.45 & 0.45 & 0.1 \\\\\n",
    "                                    0.4 & 0.3 & 0.3 \\end{pmatrix}$.  \n",
    "                                    \n",
    "Supposons désormais que nous sommes dans une pièce sans fenêtres et sans isolation thermique (oui ce n'est pas très très confortable mais c'est pour la science :) ), de telle sorte qu'on ne peut pas voir le temps qu'il fait, mais qu'on peut savoir s'il fait chaud ou froid dehors. Le temps nous est donc caché, invisible, mais chaque jour nous avons accès à une observation, la température, nous permettant d'avoir un indice sur la météo.  \n",
    "$(X_n)$ devient donc une **suite cachée** et chaque jour la température est une **observation**. Nous faisons l'hypothèse que l'observation effectuée le jour $n$ ne dépend uniquement de la météo ce jour-là.\n",
    "\n",
    "Supposons que l'on a les probabilités suivantes : \n",
    "* $\\mathbb{P}(cold|sunshine) = 0.3$ et $\\mathbb{P}(hot|sunshine) = 0.7$ \n",
    "* $\\mathbb{P}(cold|rain) = 0.8$ et $\\mathbb{P}(hot|rain) = 0.2$ \n",
    "* $\\mathbb{P}(cold|snow) = 1$ et $\\mathbb{P}(hot|snow) = 0$   \n",
    "\n",
    "Notre graphe d'état devient donc :\n",
    "\n",
    "<img src=\"Images/HiddenFilRouge.png\" width=\"600px\"></img>\n",
    "\n",
    "Par exemple, s'il pleut lundi, il y a 80% de chances qu'il fasse froid lundi et 20% de chances qu'il fasse chaud.  \n",
    "\n",
    "Nous venons de convertir notre chaîne de Markov fil rouge en un modèle de Markov caché, avec une suite cachée à laquelle nous n'avons pas accès (la météo) et une suite d'observations (la température) à laquelle nous avons accès. Formalisons cette idée.\n",
    "\n",
    "## 2.2 Définitions\n",
    "\n",
    "Le modèle de Markov caché généralise le modèle de Markov observable car il produit une séquence en utilisant deux suites de variables aléatoires : l’une cachée et l’autre observable.\n",
    "\n",
    "<div class=\"alert alert-danger\"><b>Définition 2.1 [Chaîne de Markov cachée]</b> Un modèle de Markov caché est la donnée de deux suites de variables aléatoires : \n",
    "<li>la suite cachée, $(X_n)_{n\\geq0}$ qui est une chaîne de Markov \"classique\" homogène en temps et à valeurs dans un espace d'état dénombrable $E$  </li>\n",
    "<li>la suite des observations, $(O_n)_{n\\geq0}$ qui est une suite de variables aléatoires et à valeurs dans un ensemble dénombrable $\\mathcal{V}$ appelé vocabulaire.</li>\n",
    "\n",
    "Pour tout $n\\geq0$, ces deux suites vérifient la relation : $$\\forall v_0,...,v_n \\in \\mathcal{V}, \\forall x_0,...,x_n \\in E, , \\mathbb{P}(O_n = v_n | X_0^n = x_0^n, O_0^{n-1} = v_0^{n-1}) = \\mathbb{P}(O_n = v_n | X_n = x_n)$$\n",
    "    \n",
    "Si par ailleurs $\\forall n\\geq0, \\forall v \\in \\mathcal{V}, \\forall x \\in E, \\mathbb{P}(O_n = v | X_n = x) = \\mathbb{P}(O_0 = v | X_0 = x)$, le modèle est dit stationnaire.\n",
    "</div>\n",
    "\n",
    "Autrement dit, pour un modèle de Markov caché stationnaire, pour $x\\in E$ et $v \\in \\mathcal{V}$, la probabilité $\\mathbb{P}(O_n = v | X_n = x)$ ne dépend pas du temps : on appelle cette probabilité **probabilité d'émission** (de $x$ à $v$) et on la note $$b_{xv} = \\mathbb{P}(O_n = v|X_n = x) = \\mathbb{P}(O_0 = v|X_0 = x)$$ \n",
    "\n",
    "<div class=\"alert alert-success\"> À partir de maintenant et conformément à nos cas d'applications, nous allons considérer des modèles de Markov cachés dans un espace d'état $E$ <b>fini</b> (de cardinal $N \\geq1$), <b>homogènes en temps</b>, avec un <b>vocabulaire fini</b> (de cardinal $|\\mathcal{V}|$) et <b>stationnaires</b>.</div>\n",
    "\n",
    "<div class=\"alert alert-danger\"><b>Définition 2.2 [Matrice d'émission]</b> L’ensemble des probabilités d'émission définit la matrice d'émission notée $B$ et définie par : $$B=(b_{xv})_{x \\in E, v\\in\\mathcal{V}}$$ </div>\n",
    "De la même manière que la matrice de transition de la chaîne de Markov, la matrice d'émission est une matrice stochastique, c'est à dire qu'elle vérifie : \n",
    "\n",
    "$$\n",
    "\\left\\{\n",
    "    \\begin{array}{rl}\n",
    "        \\forall x \\in E, \\forall v \\in \\mathcal{V}, & b_{xv} \\geq 0 \\\\\n",
    "        \\forall x \\in E, & \\sum_{v\\in \\mathcal{V}} b_{xv} = 1\n",
    "    \\end{array}\n",
    "\\right.\n",
    "$$\n",
    "\n",
    "\n",
    "<div class=\"alert alert-success\"> <b> Convention </b> De la même manière que pour les états, nous allons associer un entier à chaque élément du vocabulaire pour l'indexation de la matrice d'émission : <i>cold : 0</i> et <i>hot : 1</i>.</div>\n",
    "\n",
    "\n",
    "Implémentons la matrice d'émission de notre chaîne de Markov cachée : "
   ]
  },
  {
   "cell_type": "code",
   "execution_count": 12,
   "metadata": {},
   "outputs": [],
   "source": [
    "#Définition du vocabulaire\n",
    "vocabulaire = {'Cold':0, 'Hot':1}\n",
    "inv_vocabulaire = dict((n,k) for k, n in vocabulaire.items())\n",
    "list_vocabulaire = list(vocabulaire.keys())"
   ]
  },
  {
   "cell_type": "code",
   "execution_count": 13,
   "metadata": {},
   "outputs": [
    {
     "name": "stdout",
     "output_type": "stream",
     "text": [
      "\n",
      " Matrice d'émission :\n",
      "          Cold  Hot\n",
      "sunshine  0.3  0.7\n",
      "rain      0.8  0.2\n",
      "snow        1    0\n"
     ]
    }
   ],
   "source": [
    "#Définition de la matrice d'émission\n",
    "b_df = pd.DataFrame(columns=list_vocabulaire, index=liste_etats)\n",
    "b_df.loc[liste_etats[0]] = [.3,.7]\n",
    "b_df.loc[liste_etats[1]] = [0.8,0.2]\n",
    "b_df.loc[liste_etats[2]] = [1,0]\n",
    "B = b_df.values.astype(\"float\")\n",
    "print(\"\\n Matrice d'émission :\\n\",b_df)"
   ]
  },
  {
   "cell_type": "markdown",
   "metadata": {},
   "source": [
    "Pour générer une séquence d'observations à partir d'un modèle de Markov caché, il faut suivre la procédure suivante : \n",
    "* 1 - tirer l'état initial $X_0$ selon la loi initiale $\\pi_0$\n",
    "* 2 - tirer l'observation initiale $O_0$ suivant les probabilités d'émission correspondantes à $X_0$\n",
    "* 3 - aller à l'état suivant $X_{i+1}$ suivant les probabilités de transition\n",
    "* 4 - tirer l'observation $i+1$ suivant les probabilités d'émission\n",
    "* 5 - retourner à l'étape 3 et recommencer jusqu'à l'arrêt\n"
   ]
  },
  {
   "cell_type": "code",
   "execution_count": 14,
   "metadata": {},
   "outputs": [],
   "source": [
    "def hidden_markov_model(n,pi_0,P,B): \n",
    "    \"\"\"Génération d'une séquence de (n+1) états et de (n+1) observations\n",
    "    n : entier naturel\n",
    "    pi_0 : distribution initiale de la suite cachée\n",
    "    P : matrice de transition\n",
    "    B : matrice d'émission\n",
    "    \"\"\"\n",
    "    X_n = np.zeros(n+1,dtype=int)\n",
    "    O_n = np.zeros(n+1,dtype=int)\n",
    "    E = list(range(P.shape[0])) #Espace d'état\n",
    "    V = list(range(B.shape[1])) #Vocabulaire\n",
    "    \n",
    "    #initialisation\n",
    "    X_n[0] = np.random.choice(E,size=1,p=pi_0)\n",
    "    O_n[0] = np.random.choice(V,size=1,p = list(B[X_n[0]]))\n",
    "    \n",
    "    #récurrence\n",
    "    for i in range(n):\n",
    "        X_n[i+1] = np.random.choice(E,size=1,p = list(P[X_n[i]]))\n",
    "        O_n[i+1] = np.random.choice(V,size=1,p = list(B[X_n[i+1]]))\n",
    "    return X_n,O_n"
   ]
  },
  {
   "cell_type": "code",
   "execution_count": 15,
   "metadata": {},
   "outputs": [
    {
     "name": "stdout",
     "output_type": "stream",
     "text": [
      "X_0 = rain, O_0 = Cold\n",
      "X_1 = rain, O_1 = Cold\n",
      "X_2 = rain, O_2 = Cold\n",
      "X_3 = rain, O_3 = Hot\n",
      "X_4 = rain, O_4 = Hot\n",
      "X_5 = sunshine, O_5 = Cold\n"
     ]
    }
   ],
   "source": [
    "X,O = hidden_markov_model(5,pi_0,P,B)\n",
    "for i in range(len(X)):\n",
    "    print(\"X_\" + str(i) + \" = \" + inv_etats[X[i]] +\", O_\" + str(i) + \" = \"+ inv_vocabulaire[O[i]])"
   ]
  },
  {
   "cell_type": "markdown",
   "metadata": {},
   "source": [
    "## 2.3 Loi du processus $(X,O)$\n",
    "\n",
    "De la même manière que pour les chaînes de Markov classiques, nous pouvons donner la loi de la suite $(X_n,O_n)_{n\\geq0}$.\n",
    "\n",
    "<div class=\"alert alert-warning\"><b>Théorème 2.1 </b> : Pour tout $n \\geq 0$, tout $x_0, ..., x_n \\in E$ et pour tout $v_0, ..., v_n \\in \\mathcal{V}$, on a :\n",
    "$$\\mathbb{P}(X_0^n = x_0^n, O_0^n = v_0^n) = \\pi_0(x_0)\\prod_{i=0}^n b_{x_iv_i} \\prod_{i=1}^n p_{x_{i-1}x_i}$$\n",
    "</div>\n",
    "\n",
    "Démonstration du théorème 2.1 : Soit $x_0, ..., x_n \\in E$ et $v_0, ..., v_n \\in \\mathcal{V}$. On a : \n",
    "\n",
    "\\begin{align}\n",
    "\\mathbb{P}(X_0^n = x_0^n, O_0^n = v_0^n) &= \\mathbb{P}(O_0^n = v_0^n | X_0^n = x_0^n) \\mathbb{P}(X_0^n = x_0^n) \\\\\n",
    "&= \\mathbb{P}(X_0^n = x_0^n) \\mathbb{P}(O_0 = v_0 | X_0^n = x_0^n) \\prod_{i=1}^n \\mathbb{P}(O_i = v_i | X_0^n = x_0^n, O_0^{i-1} = v_0^{i-1})\\\\\n",
    "&= \\mathbb{P}(X_0^n = x_0^n) \\prod_{i=0}^n \\mathbb{P}(O_i = v_i | X_i = x_i) \\ \\ \\ \\text{par la propriété de Markov sur les observations} \\\\\n",
    "&= \\pi_0(x_0)\\prod_{i=0}^n b_{x_iv_i} \\prod_{i=1}^n p_{x_{i-1}x_i} \n",
    "\\end{align}\n",
    "\n",
    "Ce théorème nous permet d'affirmer que la loi du processus $(X,O)$ est donc entièrement déterminé par $\\pi_0$, $P$ et $B$. De la même manière que pour les chaînes de Markov classiques, on peut désigner une chaîne de Makov caché par le triplet $(\\pi_0,P,B)$."
   ]
  },
  {
   "cell_type": "code",
   "execution_count": 16,
   "metadata": {},
   "outputs": [],
   "source": [
    "n = 2\n",
    "realisation = np.random.randint(0,3,n+1)\n",
    "sequence_obs = np.random.randint(0,2,n+1)\n",
    "realisation_etat = [inv_etats[n] for n in realisation]\n",
    "observations_etat = [inv_vocabulaire[n] for n in sequence_obs]"
   ]
  },
  {
   "cell_type": "code",
   "execution_count": 17,
   "metadata": {},
   "outputs": [
    {
     "name": "stdout",
     "output_type": "stream",
     "text": [
      "P(X_0^2 = ['sunshine', 'sunshine', 'snow'],O_0^2 = ['Cold', 'Cold', 'Cold']) = 0.0018\n"
     ]
    }
   ],
   "source": [
    "#Calcul de la probabilité d'une réalisation de (X,O)\n",
    "proba = pi_0[realisation[0]] * B[realisation[0],sequence_obs[0]]\n",
    "for i in range(1,n+1):\n",
    "    proba *= P[realisation[i-1],realisation[i]] * B[realisation[i],sequence_obs[i]]\n",
    "print(\"P(X_0^{} = {},O_0^{} = {}) = {}\".format(n, realisation_etat,n,observations_etat,proba))"
   ]
  },
  {
   "cell_type": "markdown",
   "metadata": {},
   "source": [
    "# 3. <a id=\"sec3\"></a> Les trois problèmes fondamentaux\n",
    "\n",
    "<div class=\"alert alert-info\"> <b> Notation </b> : Dans toute cette partie, pour un modèle de Markov caché $\\lambda = (\\pi_0,P,B)$ et une séquence d'observations $v_0^n \\in \\mathcal{V}^{n+1}$, on note par $\\mathbb{P}_\\lambda(O_0^n = v_0^n)$ la probabilité que le modèle caché $\\lambda$ ait émis la séquence $v_0^n$.</div>\n",
    "\n",
    "<div class=\"alert alert-success\"> <b> Convention </b> : En adéquation avec les correspondances <i>entier/état</i> et <i>entier/mot</i> que nous avons créées, les algorithmes de cette partie ne traiteront uniquement que des entiers (en d'autres termes : $E = [0,|E|-1]$ et $\\mathcal{V} = [0,|\\mathcal{V}|-1]$) La conversion vers les états et les mots se feront grâce aux dictionnaires de correspondances.</div>\n",
    "\n",
    "Étant donnée un modèle de Markov caché $\\lambda = (\\pi_0,P,B)$, il existe trois problèmes fondamentaux qui méritent notre attention et qui doivent être résolus : \n",
    "\n",
    "* **Problème 1 (calcul de probabilité)** : pour une séquence d'observations $v_0^n \\in \\mathcal{V}^{n+1}$, calculer efficacement $\\mathbb{P}_\\lambda(O_0^n = v_0^n)$\n",
    "* **Problème 2 (le déchiffrage)** \n",
    "pour une séquence d'observations $v_0^n \\in \\mathcal{V}^{n+1}$, déterminer la séquence d'états $x_0^n \\in E^{n+1}$ correspondante la plus probable\n",
    "* **Problème 3 (l'apprentissage)** : pour une séquence d'observations $v_0^n \\in \\mathcal{V}^{n+1}$, déterminer les paramètres $\\lambda^* = (\\pi_0^*,P^*,B^*)$ qui maximisent $\\mathbb{P}_{\\lambda}(O_0^n = v_0^n)$\n",
    "\n",
    "Nous considérons toujours le modèle de Markov caché de notre exemple fil rouge dont les paramètres $\\lambda = (\\pi_0,P,B)$ sont donnés par :"
   ]
  },
  {
   "cell_type": "code",
   "execution_count": 18,
   "metadata": {},
   "outputs": [
    {
     "name": "stdout",
     "output_type": "stream",
     "text": [
      "Paramètres de notre exemple fil rouge : \n",
      "\n",
      " - Conditions initiales : \n",
      "pi_0 = [0.2 0.5 0.3]\n",
      "\n",
      " - Matrice de transition : \n",
      "P = [[0.5  0.3  0.2 ]\n",
      " [0.45 0.45 0.1 ]\n",
      " [0.4  0.3  0.3 ]]\n",
      "\n",
      " - Matrice d'émission : \n",
      "B = [[0.3 0.7]\n",
      " [0.8 0.2]\n",
      " [1.  0. ]]\n"
     ]
    }
   ],
   "source": [
    "print(\"Paramètres de notre exemple fil rouge : \")\n",
    "print(\"\\n - Conditions initiales : \")\n",
    "print(\"pi_0 = \" + str(pi_0))\n",
    "print(\"\\n - Matrice de transition : \")\n",
    "print(\"P = \" + str(P))\n",
    "print(\"\\n - Matrice d'émission : \")\n",
    "print(\"B = \" + str(B))"
   ]
  },
  {
   "cell_type": "markdown",
   "metadata": {},
   "source": [
    "Nous allons présenter dans cette partie les méthodes de résolution de ces trois problèmes. [Rabiner](https://web.ece.ucsb.edu/Faculty/Rabiner/ece259/Reprints/tutorial%20on%20hmm%20and%20applications.pdf) s'intéresse particulièrement à cette problématique.\n",
    "\n",
    "## 3.1 Problème 1 : calcul de probabilité\n",
    "\n",
    "<div class=\"alert alert-success\"> <b> But </b> : Étant donné un modèle caché $\\lambda = (\\pi_0,P,B)$ et une séquence d'observations $v_0^n \\in \\mathcal{V}^{n+1}$, on veut calculer $\\mathbb{P}_\\lambda(O_0^n = v_0^n)$.</div>\n",
    "\n",
    "Dans le cas de notre exemple fil rouge, on veut par exemple déterminer la probabilité d'observer la séquence *hot-hot-cold-hot-cold*.\n",
    "\n",
    "### 3.1.1 Première approche théorique\n",
    "\n",
    "Théoriquement, ce problème est très simple à résoudre : connaissant le modèle $\\lambda = (\\pi_0,P,B)$, le théorème nous donne la loi couplée $(X,O)$ et nous sommes capable de calculer la loi de la suite $(O_n)$ via la formule :$$\\mathbb{P}_\\lambda(O_0^n = v_0^n) = \\sum_{x_0^n \\in E^{n+1}} \\mathbb{P}_\\lambda(X_0^n = x_0^n, O_0^n = v_0^n) = \\sum_{x_0^n \\in E^{n+1}}\\pi_0(x_0)\\prod_{i=0}^n b_{x_iv_i} \\prod_{i=1}^n p_{x_{i-1}x_i}$$\n",
    "Cependant, nous aimerions pouvoir calculer cette probabilité informatiquement. Faisons alors un peu de dénombrement.  \n",
    "Si $E$ est fini de cardinal $N>0$, alors $Card(E^{n+1}) = N^{n+1}$. La probabilité voulue est donc une somme de $N^{n+1}$ termes. Il y a donc $N^{n+1} - 1$ sommes à effectuer. De plus, chaque terme est composé de $2n+1$ produits.  \n",
    "Pour calculer cette probabilité, il faut donc réaliser $(2n+1)N^{n+1}$ produits et $N^{n+1} - 1$ sommes, soit $2(n+1)N^{n+1} - 1 \\approx 2nN^{n+1}$ opérations élémentaires."
   ]
  },
  {
   "cell_type": "code",
   "execution_count": 19,
   "metadata": {},
   "outputs": [
    {
     "name": "stdout",
     "output_type": "stream",
     "text": [
      "309226512439206798621876677859372763621264513200600 opérations soit plus de 10^50.\n"
     ]
    }
   ],
   "source": [
    "#Calcul de la complexité dans l'exemple fil rouge\n",
    "N = 3\n",
    "n = 100\n",
    "n_op = 2*n*N**(n+1)\n",
    "print(\"{} opérations soit plus de 10^{}.\".format(n_op,int(np.log10(np.float(n_op)))))"
   ]
  },
  {
   "cell_type": "markdown",
   "metadata": {},
   "source": [
    "Dans notre exemple fil rouge, l'espace d'état est composé de seulement 3 éléments. Pour calculer la probabilité de réalisation d'une séquence de $n = 100$ observations, il faut plus de $10^{50}$ opérations élémentaires. Je vous laisse imaginer le nombre d'opérations élémentaires qu'il faudrait si l'espace d'état était bien plus grand, comme c'est le cas dans des applications plus courantes.\n",
    "\n",
    "Excepté pour des cas simplissimes, il est donc impossible de calculer la probabilité voulue informatiquement avec cette méthode. Il est donc nécessaire de développer une autre méthode pour calculer $\\mathbb{P}_\\lambda(O_0^n = v_0^n)$.\n",
    "\n",
    "### 3.1.2 L'algorithme du Forward\n",
    "\n",
    "Nous devons trouver un moyen plus efficace de calculer la probabilité $\\mathbb{P}_\\lambda(O_0^n = v_0^n)$. Heureusement, un tel algorithme existe : **l'algorithme du Forward** qui a une complexité en $\\mathcal{O}(nN^2)$. L'astuce ici est de s'intéresser aux coefficients de Forward : \n",
    "\n",
    "<div class=\"alert alert-danger\"><b> Définition 3.1 [Coefficient de forward]</b>$$\\forall i \\in [0,n], \\forall x \\in E, \\alpha_i(x) = \\mathbb{P}_\\lambda(O_0^{i} = v_0^{i}, X_i = x) $$</div> \n",
    "\n",
    "$\\alpha_i(x)$ représente la probabilité d'observer la séquence tronquée $v_0^{i}$ et que la suite cachée est dans l'état $x$ à l'instant $i$. En d'autres termes, il représente la probabilité d'arriver en $x$ à l'instant $i$ tout en suivant la séquence d'observations.  \n",
    "L'intérêt de ces coefficients est qu'ils vérifient deux relations extrêmement intéressantes.\n",
    "\n",
    "<div class=\"alert alert-warning\"><b>Proposition 3.1</b> : Les coefficients $\\alpha_i(x)$ vérifient les relations : \n",
    "    \n",
    "$$\\left\\{\n",
    "    \\begin{array}{l}\n",
    "        \\mathbb{P}_\\lambda(O_0^n = v_0^n) = \\sum_{x\\in E} \\alpha_n(x) \\ \\ \\ \\text{(i)}\\\\\n",
    "        \\forall i \\in [0,n-1], \\forall x \\in E, \\alpha_{i+1}(x) = \\sum_{y\\in E} \\alpha_i(y) p_{yx} b_{xv_{i+1}} \\ \\ \\ \\text{(ii)}\n",
    "    \\end{array}\n",
    "\\right.$$\n",
    "</div> \n",
    "\n",
    "Démonstration de la proposition 3.1 :  \n",
    "(i) On a : $\\mathbb{P}_\\lambda(O_0^n = v_0^n) = \\sum_{x \\in E} \\mathbb{P}_\\lambda(O_0^{n} = v_0^{n}, X_i = x) = \\sum_{x\\in E} \\alpha_n(x)$  \n",
    "(ii) Soit $i \\in [0,n-1]$ et $x\\in E$. On a \n",
    "\\begin{align}\n",
    "\\alpha_{i+1}(x) &= \\mathbb{P}_{\\lambda}(O_0^{i+1} = v_0^{i+1}, X_{i+1} = x) \\\\\n",
    "&= \\sum_{y\\in E} \\mathbb{P}_{\\lambda}(O_0^{i} = v_0^{i}, X_i = y, O_{i+1} = v_{i+1}, X_{i+1} = x) \\\\\n",
    "&= \\sum_{y\\in E} \\mathbb{P}_{\\lambda}(O_0^{i} = v_0^{i}, X_i = y) \\mathbb{P}_{\\lambda}(X_{i+1} = x | O_0^{i} = v_0^{i}, X_i = y) \\mathbb{P}_{\\lambda}(O_{i+1} = v_{i+1}|X_{i+1} = x, O_0^{i} = v_0^{i}, X_i = y) \\\\\n",
    "&= \\sum_{y\\in E} \\alpha_i(y) \\mathbb{P}_{\\lambda}(X_{i+1} = x | X_i = y) \\mathbb{P}_{\\lambda}(O_{i+1} = v_{i+1}|X_{i+1} = x) \\\\\n",
    "&= \\sum_{y\\in E} \\alpha_i(y) p_{yx} b_{xv_{i+1}}\n",
    "\\end{align}\n",
    "\n",
    "<img src=\"Images/Forward.png\" width=\"600px\"></img>\n",
    "\n",
    "La figure illustre bien la relation de récurrence, et comment on calcul les coefficients à l'instant $i$ en fonction de ceux à l'instant $i-1$. La probabilité d'être en point est précisément égale à $\\alpha_i(x)$. Chaque point à l'instant $i$ découme de tous les points à l'instant $i-1$ car pour émettre le début de l’observation $v_0^{i}$ et aboutir dans l’état $x$ au temps $i$, on doit nécessairement être dans l’un des états $y\\in E$ à l’instant $i-1$.\n",
    "\n",
    "\n",
    "La proposition ci-dessus nous donne une relation de récurrence sur les coefficients ainsi qu'un moyen d'obtenir la probabilité voulue à partir des coefficients à l'instant final. Le principe de l'algorithme est assez simple : on va calculer les coefficient $\\alpha_i(x)$ pour tout état $x$ et à tout instant $i$ en avançant étape par étape afin d'arriver à l'instant $n$, pour finalement faire la somme finale.  \n",
    "Le pseudo-code de l'algorithme du Forward est donné par :\n",
    "\n",
    "<img src=\"Images/PseudoCodeForward.png\" width=\"500px\"></img>\n",
    "    \n",
    "1) Durant la phase d'initialisation, on définit $\\alpha_0(x)$ pour tout $x \\in E$ à l'aide de la formule :  $$\\alpha_0(x) = \\mathbb{P}_\\lambda(O_0 = v_0, X_0 = x) = \\mathbb{P}_\\lambda(O_0 = v_0 | X_0 = x) \\mathbb{P}_\\lambda(X_0 = x) = \\pi_0(x)b_{xv_0}$$\n",
    "2) Ensuite, on utilise la relation de récurrence pour calculer les coefficients à tout instant  \n",
    "3) Finalement, on retourne la probabilité voulue à l'aide de la somme."
   ]
  },
  {
   "cell_type": "code",
   "execution_count": 20,
   "metadata": {},
   "outputs": [],
   "source": [
    "def forward_algorithm(obs_seq,pi_0,P,B):\n",
    "    \"\"\"Retourne la probabilité d'observer la séquence obs_seq\n",
    "    obs_seq : liste d'observations\n",
    "    pi_0 : conditions initiales de la suite cachée\n",
    "    P : matrice de transition\n",
    "    B : matrice d'émission\"\"\"\n",
    "    N = P.shape[0] #Taille de l'espace d'états\n",
    "    n = len(obs_seq) - 1 #Instant final de la séquence\n",
    "    forward = np.zeros((N,n+1))\n",
    "    \n",
    "    #Initialisation\n",
    "    forward[:,0] = pi_0*B[:,obs_seq[0]]\n",
    "    \n",
    "    #Récurrence\n",
    "    for i in range(1,n+1):\n",
    "        for x in range(N):\n",
    "            prod = forward[:,i-1] * P[:,x] * B[x,obs_seq[i]]\n",
    "            forward[x,i] = np.sum(prod)\n",
    "            \n",
    "    #Fin avec la somme à l'instant n\n",
    "    return np.sum(forward[:,n])"
   ]
  },
  {
   "cell_type": "code",
   "execution_count": 21,
   "metadata": {},
   "outputs": [
    {
     "name": "stdout",
     "output_type": "stream",
     "text": [
      "P(O_0^5 = ['Hot', 'Cold', 'Hot', 'Hot', 'Cold', 'Hot']) = 0.005154273541999999\n"
     ]
    }
   ],
   "source": [
    "n_max = 5\n",
    "sequence = np.random.randint(0,2,n_max+1)\n",
    "forward_prob = forward_algorithm(sequence,pi_0,P,B)\n",
    "print(\"P(O_0^{} = {}) = {}\".format(n_max,[inv_vocabulaire[x] for x in sequence],forward_prob))"
   ]
  },
  {
   "cell_type": "markdown",
   "metadata": {},
   "source": [
    "Déterminons sa complexité : \n",
    "* 1) durant l'initialisation, on effectue seulement $N$ produits  \n",
    "* 2) durant la récursion, on effectue $2N$ produits par étapes et $N-1$ sommes, le tout $N$ fois. On effetue cela $n$ fois.  \n",
    "* 3) à la fin, on effectue une fois $N$ sommes  \n",
    "Durant tout l'algorithme, on effectue alors $2N + nN(2N+N-1)$ opérations élémentaires et on retrouve bien une complexité en $\\mathcal{O}(nN^2)$.  \n",
    "Nous sommes désormais capable de calculer la probabilité $\\mathbb{P}_\\lambda(O_0^n = v_0^n)$ efficacement.\n",
    "\n",
    "On peut faire remarquer qu'il existe des variantes équivalentes de cet algorithme qui permettent également de calculer la probabilité voulue. On peut citer l'algorithme du backward ou l'algorithme du forward-backward.\n",
    "\n",
    "## 3.2 Problème 2 : le décryptage\n",
    "\n",
    "<div class=\"alert alert-success\"> <b> But </b> : Étant donné un modèle caché $\\lambda = (\\pi_0,P,B)$ et une séquence d'observations $v_0^n \\in \\mathcal{V}^{n+1}$, on veut déterminer la meilleure suite d'états $x_0^n \\in E^{n+1}$ qui maximise $$\\mathbb{P}_\\lambda(O_0^n = v_0^n, X_0^n = x_0^n)$$</div>\n",
    "\n",
    "En d'autres termes, on essaie ici de deviner la suite cachée derrière les observations faites.\n",
    "Dans le cas de notre exemple fil rouge, étant donnée une séquence d'observation *hot-hot-cold-hot-cold* par exemple, on veut déterminer la combinaison des météos sur ces 5 jours la plus probable.  \n",
    "\n",
    "Naïvement, la première idée qui nous vient à l'esprit est de calculer $\\mathbb{P}_\\lambda(O_0^n = v_0^n, X_0^n = x_0^n)$ pour toutes les suites d'états $x_0^n \\in E^{n+1}$ et déterminer celle qui maximise la probabilité. Mais cette solution est beaucoup trop coûteuse informatiquement, pour les mêmes raisons que celles évoquées lors du problème 1. Heureusement, il existe ici aussi un algorithme qui permet de déterminer la séquence la plus probable efficacement : **l'algorithme de Viterbi**.  \n",
    "\n",
    "L'astuce de cet algorithme est de considéré les coefficients de Viterbi : \n",
    "\n",
    "<div class=\"alert alert-danger\"><b> Définition 3.2 [Coefficient de Viterbi]</b>$$\\forall i \\in [1,n], \\forall x \\in E, \\delta_i(x) = \\underset{x_0^{i-1} \\in E^{i}}{\\max} \\mathbb{P}_\\lambda(X_0^{i-1} = x_0^{i-1}, O_0^{i} = v_0^{i}, X_i = x)$$</div> \n",
    "\n",
    "Autrement dit, $\\delta_i(x)$ est la probabilité du meilleur chemin amenant à l’état $x$ à l’instant $i$, en étant guidé par les $i$ premières observations.\n",
    "\n",
    "L'intérêt de ces coefficients est qu'ils vérifient une relation de récurrence qui nous permettra d'avancer dans le temps.\n",
    "\n",
    "<div class=\"alert alert-warning\"><b>Proposition 3.2</b> : Les coefficients de viterbi $\\delta_i(x)$ vérifient la relation de récurrence : \n",
    "$$\\forall i\\in , \\forall x\\in E, \\delta_{i+1}(x) = \\underset{y\\in E}{\\max} \\delta_i(y) p_{yx} b_{xv_{i+1}}$$\n",
    "</div> \n",
    "\n",
    "Démontration de la proposition 3.2 :  \n",
    "Soit $i \\in $ et $x \\in E$. On a : \n",
    "\\begin{align}\n",
    "\\delta_{i+1}(x) &= \\underset{x_0^{i} \\in E^{i+1}}{\\max} \\mathbb{P}_\\lambda(X_0^{i} = x_0^{i}, O_0^{i+1} = v_0^{i+1}, X_{i+1} = x) \\\\\n",
    "&= \\underset{x_0^{i} \\in E^{i+1}}{\\max} \\mathbb{P}_\\lambda(X_0^{i-1} = x_0^{i-1}, O_0^{i} = v_0^{i}, X_{i} = x_i, O_{i+1} = v_{i+1}, X_{i+1} = x)\\\\\n",
    "&= \\underset{x_0^{i} \\in E^{i+1}}{\\max} \\mathbb{P}_\\lambda(X_0^{i-1} = x_0^{i-1}, O_0^{i} = v_0^{i}, X_{i} = x_i) \\mathbb{P}_\\lambda(X_{i+1} = x | X_0^{i-1} = x_0^{i-1}, O_0^{i} = v_0^{i}, X_{i} = x_i) \\\\\n",
    "& \\hspace{8cm}\\mathbb{P}_\\lambda(O_{i+1} = v_{i+1} | X_{i+1} = x, X_0^{i-1} = x_0^{i-1}, O_0^{i} = v_0^{i}, X_{i} = x_i) \\\\\n",
    "&= \\underset{x_0^{i} \\in E^{i+1}}{\\max} \\mathbb{P}_\\lambda(X_0^{i-1} = x_0^{i-1}, O_0^{i} = v_0^{i}, X_{i} = x_i) \\mathbb{P}_\\lambda(X_{i+1} = x | X_{i} = x_i) \\mathbb{P}_\\lambda(O_{i+1} = v_{i+1} | X_{i+1} = x) \\\\\n",
    "&= \\underset{x_0^{i-1} \\in E^{i}}{\\max} \\underset{y\\in E}{\\max} \\mathbb{P}_\\lambda(X_0^{i-1} = x_0^{i-1}, O_0^{i} = v_0^{i}, X_{i} = y)  \\mathbb{P}_\\lambda(X_{i+1} = x | X_{i} = y) \\mathbb{P}_\\lambda(O_{i+1} = v_{i+1} | X_{i+1} = x)\\\\\n",
    "&= \\underset{y\\in E}{\\max} \\underset{x_0^{i-1} \\in E^{i}}{\\max} \\left[ \\mathbb{P}_\\lambda(X_0^{i-1} = x_0^{i-1}, O_0^{i} = v_0^{i}, X_{i} = y)\\right]  \\mathbb{P}_\\lambda(X_{i+1} = x | X_{i} = y) \\mathbb{P}_\\lambda(O_{i+1} = v_{i+1} | X_{i+1} = x)\\\\\n",
    "&= \\underset{y\\in E}{\\max} \\delta_i(y) p_{yx} b_{xv_{i+1}}\n",
    "\\end{align}\n",
    "\n",
    "Le principe de l'algorithme est de garder en mémoire au fil du temps, à l'aide d'un tableau $\\psi$ (qui représente l'état qui maximise le terme de droite de la relation de récurrence), la suite d'états qui donne le meilleur chemin pour arriver en $x \\in E$ à l'instant $i$. Intuitivement, on va calculer les coefficients $\\delta_i(x)$ pour tout état $x$ à tout instant $i$ récursivement, de la même manière que lors de l'algorithme précédent (la *somme* est remplacée par le *maximum*). Une fois arriver à l'instant final $n$, on va utiliser le tableau $\\psi$ que l'on a construit au fur et à mesure afin de remonter via le meilleur chemin.  \n",
    "\n",
    "Le pseudo-code de l'algorithme est donné par :\n",
    "\n",
    "<img src=\"Images/PseudoCodeViterbi.png\" width=\"400px\"></img>\n",
    "\n",
    "<img src=\"Images/Viterbi.png\" width=\"700px\"></img>\n",
    "\n",
    "Cette figure représentente graphiquement ce que fait l'algorithme. Les flèches noires vers la droite représentent le calcul récursif des coefficients de Viterbi pour chaque point. Une fois arrivé à la fin, on remonte en choississant le bon état (flèches bleues en pointillées). Par exemple sur la figure, l'état du meilleur chemin à l'instant $1$ est $H$.  \n",
    "\n",
    "Implémentons l'algorithme de Viterbi : "
   ]
  },
  {
   "cell_type": "code",
   "execution_count": 22,
   "metadata": {},
   "outputs": [],
   "source": [
    "def viterbi_algorithm(obs_seq,pi_0,P,B):\n",
    "    \"\"\"Retourne la séquence cachée la plus probable ainsi que la probabilité correspondante\n",
    "    obs_seq : liste d'observations\n",
    "    pi_0 : conditions initiales de la suite cachée\n",
    "    P : matrice de transition\n",
    "    B : matrice d'émission\n",
    "    \"\"\"\n",
    "    N = P.shape[0] #Taille de l'espace d'états\n",
    "    n = len(obs_seq) - 1 #Instant final de la séquence\n",
    "    viterbi = np.zeros((N,n+1))\n",
    "    psi = np.zeros((N,n+1),dtype=int)\n",
    "    \n",
    "    #Initialisation\n",
    "    viterbi[:,0] = pi_0 * B[:,obs_seq[0]]\n",
    "    psi[:,0] = -1\n",
    "    \n",
    "    #Récurrence\n",
    "    for i in range(1,n+1):\n",
    "        for x in range(N):\n",
    "            viterbi[x,i] = np.max(viterbi[:,i-1] * P[:,x] * B[x,obs_seq[i]])\n",
    "            psi[x,i] = np.argmax(viterbi[:,i-1] * P[:,x])\n",
    "            \n",
    "    \n",
    "    best_path_prob = np.max(viterbi[:,n])\n",
    "    best_path_pointer = np.argmax(viterbi[:,n])\n",
    "    \n",
    "    best_path = [best_path_pointer]\n",
    "    \n",
    "    #Remonté via le meilleur chemin\n",
    "    for i in range(n,0,-1):\n",
    "        best_path = [psi[best_path[0],i]] + best_path\n",
    "        \n",
    "    return best_path, best_path_prob"
   ]
  },
  {
   "cell_type": "code",
   "execution_count": 23,
   "metadata": {},
   "outputs": [
    {
     "name": "stdout",
     "output_type": "stream",
     "text": [
      "['rain', 'rain', 'sunshine'] est le chemin le plus probable pour les observations ['Hot', 'Cold', 'Hot']\n",
      "La probabilité du meilleur chemin est 0.011340000000000001.\n"
     ]
    }
   ],
   "source": [
    "n_max = 2\n",
    "sequence = np.random.randint(0,2,n_max+1)\n",
    "best_path, best_prob = viterbi_algorithm(sequence,pi_0,P,B)\n",
    "print(\"{} est le chemin le plus probable pour les observations {}\".format(\n",
    "    [inv_etats[x] for x in best_path],[inv_vocabulaire[x] for x in sequence]))\n",
    "print(\"La probabilité du meilleur chemin est {}.\".format(best_prob))"
   ]
  },
  {
   "cell_type": "markdown",
   "metadata": {},
   "source": [
    "Enfin, on peut remarquer que comme pour l'algorithme du Forward, la complexité de cette algorithme est en $\\mathcal{O}(nN^2)$.\n",
    "\n",
    "## 3.3 Problème 3 : l'apprentissage\n",
    "\n",
    "<div class=\"alert alert-success\"> <b> But </b> : Étant donné une séquence d'observations $v_0^n \\in \\mathcal{V}^{n+1}$, l'objectif est de déterminer les paramètres d’un modèle de Markov caché $\\lambda^* = (\\pi_0^*,P^*,B^*)$ qui maximisent la probabilité $$\\mathbb{P}_{\\lambda}(O_0^n = v_0^n)$$</div>\n",
    "\n",
    "### 3.3.1 Intuition\n",
    "\n",
    "Ce problème est, de loin, le plus compliqué des trois à résoudre. Techniquement, nous disposons des outils pour résoudre ce problème analytiquement. En effet, on a déjà prouvé que $$\\mathbb{P}_\\lambda(O_0^n = v_0^n) = \\sum_{x_0^n \\in E^{n+1}}\\pi_0(x_0)\\prod_{i=0}^n b_{x_iv_i} \\prod_{i=1}^n p_{x_{i-1}x_i}$$ \n",
    "Il s'agit donc ni plus ni moins qu'un problème d'optimisation déterministe sur $\\mathbb{R}^{N+N^2+|\\mathcal{V}|N}$ sous contraintes de stochasticité des différents paramètres. On pourrait alors écrire le Langrangien de la fonction objectif ainsi que les contraintes de Karush-Kuhn-Tucker (KKT) afin de trouver les paramètres optimaux.  \n",
    "Si vous êtes motivés pour faire tout ça avec notre fonction objectif : bon courage ! On pourrait également tenter d'appliquer l'algorithme de descente de gradient par exemple, mais nous allons nous intéresser à un autre algorithme.\n",
    "\n",
    "La résolution analytique de ce problème étant extrêmement compliquée, nous allons développer un algorithme itératif qui à partir d'un état initial, va mettre à jour les paramètres afin d'améliorer l'estimation des paramètres optimaux, c'est à dire qu'à chaque itération, on va calculer de nouveau paramètres $(\\pi_0,P,B)$ qui vont augmenter la probabilité $\\mathbb{P}_\\lambda(O_0^n = v_0^n)$. Il s'agit de **l'algorithme du Forward-Backward**, ou **l'algorithme de Baul-Welch**. Il ne donne pas de solution exacte du problème, mais permet d'approcher la solution.\n",
    "\n",
    "Intuitivement, à partir du modèle à l'itération $m\\geq0$, on va calculer les paramètres du modèle à l'itération $m+1$ de la manière suivante : \n",
    "\n",
    "$$\\pi^{(m+1)}(x) = \\frac{\\text{nombre de fois où le modèle s’est trouvé dans l’état $x$ en émettant le premier symbole d’une phrase sous $\\lambda_m$}}{\\text{nombre de fois où le modèle a émis le premier symbole d’une phrase sous $\\lambda_m$}}$$\n",
    "\n",
    "$$p_{x,y}^{(m+1)} = \\frac{\\text{nombre de fois où la transition de $x$ à $y$ a été utilisée sous $\\lambda_m$}}{\\text{nombre de transitions effectuées à partir de $x$ sous $\\lambda_m$}}$$\n",
    "\n",
    "$$b_{x,v}^{(m+1)} = \\frac{\\text{nombre de fois où le modèle s’est trouvé dans l’état $x$ en observant $v$ sous $\\lambda_m$}}{\\text{nombre de fois où le modèle s’est trouvé dans l’état $x$ sous $\\lambda_m$}}$$\n",
    "\n",
    "### 3.3.2 Algorithme de Baum-Welch\n",
    "\n",
    "Pour mettre en oeuvre l'algorithme de Baum-Welch, nous avons besoin de définir les coefficients suivants :\n",
    "\n",
    "<div class=\"alert alert-danger\"> <b> Définition 3.3 </b> $$\\forall i\\in[0,n-1],\\forall x,y \\in E, \\ \\xi_i(x,y) = \\mathbb{P}_\\lambda(X_i = x,X_{i+1} = y|O_0^n = v_0^n) = \\frac{\\mathbb{P}_\\lambda(X_i = x,X_{i+1} = y, O_0^n = v_0^n)}{\\mathbb{P}_\\lambda(O_0^n = v_0^n)}$$</div>\n",
    "\n",
    "$\\xi_i(x,y)$ représente la probabilité, étant donnée la séquence d'observations, que le modèle caché soit dans l'état $x$ à l'instant $i$ et qu'il soit dans l'état $y$ à l'instant $i+1$.\n",
    "\n",
    "<div class=\"alert alert-danger\"> <b> Définition 3.4 </b> $$\\forall i \\in [0,n], \\forall x\\in E, \\ \\gamma_i(x) = \\mathbb{P}_\\lambda(X_i = x|O_0^n = v_0^n) = \\frac{\\mathbb{P}_\\lambda(X_i = x, O_0^n = v_0^n)}{\\mathbb{P}_\\lambda(O_0^n = v_0^n)}$$</div>\n",
    "\n",
    "$\\gamma_i(x)$ représente la probabilité, étant donnée la séquence d'observations, que le modèle caché soit dans l'état $x$ à l'instant $i$. \n",
    "\n",
    "Pour calculer efficacements ces coefficients au cours de l'algorithme, nous allons utiliser les coefficients de forward (déjà définis dans la partie 3.1) et les coefficients de backward, définis par :\n",
    "\n",
    "<div class=\"alert alert-danger\"> <b> Définition 3.5 [Coefficient de backward] </b>\n",
    "$$\\forall x\\in E, \\ \\left\\{\n",
    "    \\begin{array}{l}\n",
    "        \\forall i \\in [0,n-1], \\ \\beta_i(x) = \\mathbb{P}_\\lambda(O_{i+1}^n = v_{i+1}^n | X_i = x) \\\\\n",
    "        \\beta_n(x) = 1 \n",
    "    \\end{array}\n",
    "\\right.$$\n",
    "</div>\n",
    "\n",
    "<div class=\"alert alert-warning\"><b>Proposition 3.3 </b>: Les coefficients $\\beta_i(x)$ vérifient les relations : \n",
    "    \n",
    "$$\\left\\{\n",
    "    \\begin{array}{l}\n",
    "        \\mathbb{P}_\\lambda(O_0^n = v_0^n) = \\sum_{x\\in E} \\pi_0(x) b_{xv_0} \\beta_0(x) \\ \\ \\ \\text{(i)}\\\\\n",
    "        \\forall i \\in [0,n-1], \\forall x \\in E, \\beta_{i}(x) = \\sum_{y\\in E} \\beta_{i+1}(y) p_{xy} b_{yv_{i+1}} \\ \\ \\ \\text{(ii)}\n",
    "    \\end{array}\n",
    "\\right.$$\n",
    "</div> \n",
    "\n",
    "Démonstration de la proposition 3.3 :  \n",
    "(i) \\begin{align}\n",
    "\\mathbb{P}_\\lambda(O_0^n = v_0^n) &= \\mathbb{P}_\\lambda(O_1^n = v_1^n, O_0 = v_0)\\\\\n",
    "&= \\sum_{x\\in E} \\mathbb{P}_\\lambda(O_1^n = v_1^n, O_0 = v_0|X_0 = x)\\mathbb{P}_\\lambda(X_0 = x)\\\\\n",
    "&= \\sum_{x\\in E} \\mathbb{P}_\\lambda(O_1^n = v_1^n | X_0 = x) \\mathbb{P}_\\lambda(O_0 = v_0 | X_0 = x) \\mathbb{P}_\\lambda(X_0 = x) \\\\\n",
    "&= \\sum_{x\\in E} \\pi_0(x) b_{xv_0} \\beta_0(x)\n",
    "\\end{align}\n",
    "\n",
    "(ii) Soit $i \\in [0,n-2]$ et $x \\in E$. On a : \n",
    "\\begin{align}\n",
    "\\beta_i(x) &=  \\mathbb{P}_\\lambda(O_{i+1}^n = v_{i+1}^n | X_i = x) \\\\\n",
    "&= \\mathbb{P}_\\lambda(O_{i+2}^n = v_{i+2}^n, O_{i+1} = v_{i+1} | X_i = x) \\\\\n",
    "&= \\sum_{y \\in E} \\mathbb{P}_\\lambda(O_{i+2}^n = v_{i+2}^n, O_{i+1} = v_{i+1}, X_{i+1} = y | X_i = x) \\\\\n",
    "&= \\sum_{y \\in E} \\mathbb{P}_\\lambda(O_{i+2}^n = v_{i+2}^n, O_{i+1} = v_{i+1} | X_{i+1} = y, X_i = x) \\mathbb{P}_\\lambda(X_{i+1} = y | X_i = x) \\\\\n",
    "&= \\sum_{y \\in E} \\mathbb{P}_\\lambda(O_{i+2}^n = v_{i+2}^n, O_{i+1} = v_{i+1} | X_{i+1} = y) \\mathbb{P}_\\lambda(X_{i+1} = y | X_i = x) \\\\\n",
    "&= \\sum_{y \\in E} \\mathbb{P}_\\lambda(O_{i+2}^n = v_{i+2}^n | X_{i+1} = y) \\mathbb{P}_\\lambda(O_{i+1} = v_{i+1} | X_{i+1} = y) \\mathbb{P}_\\lambda(X_{i+1} = y | X_i = x) \\\\\n",
    "&= \\sum_{y \\in E} \\beta_{i+1}(y) b_{yv_{i+1}} p_{xy} \\\\\n",
    "\\end{align}\n",
    "\n",
    "On vérifie également de manière immédiate que l'égalité est vraie pour $i = n-1$.\n",
    "\n",
    "$\\beta_i(x)$ s'agit de la probabilité d'observer la fin de la séquence d'observation (à partir de $i+1$) sachant que la suite est dans l'état $x$ à l'instant $i$. Les coefficients de backward peuvent être vus comme la deuxième partie des coefficients de forward. En effet, $\\alpha_i(x)$ représente la probabilité d'arriver en $x$ à l'instant $i$ en suivant la séquence d'observations, tandis que $\\beta_i(x)$ représente la probabilité de suivre la fin de la séquence sachant qu'on est en $x$ à l'instant $i$. En combinant les deux coefficients, nous obetenons à peu de choses près la probabilité d'être en $x$ à l'instant $i$.\n",
    "\n",
    "<img src=\"Images/Backward.png\" width=\"600px\"></img>\n",
    "\n",
    "De la même manière, il existe un lien entre les coefficients $\\alpha$, $\\beta$ et $\\xi$. En effet, comme on peut le voir sur l'image ci-dessous, avec $\\alpha_i(x)$, $\\beta_{i+1}(y)$ et les paramètres de transition et d'émission, on a les probabilités d'arriver en $x$ à l'instant $i$ suivant la séquence d'observations, d'observer la fin de la séquence en partant de $y$ à l'instant $i+1$ ainsi que la probabilité de passer de $x$ à $y$ et d'observer $v_{i+1}$. Combinant tous ces paramètres, nous pouvonss obtenir à peut de choses près $\\xi_i(x,y)$.\n",
    "<img src=\"Images/xi.png\" width=\"600px\"></img>\n",
    "\n",
    "Traduisons ces intuitions de manière mathématique. À partir des coefficients de forward et backward, nous sommes capable de calculer les coefficients $\\xi$ et $\\gamma$.\n",
    "\n",
    "<div class=\"alert alert-warning\"> <b> Proposition 3.4</b> : $$\\forall i \\in [0,n-1], \\forall x,y \\in E, \\ \\xi_i(x,y) = \\frac{\\alpha_i(x)p_{xy}b_{yv_{i+1}}\\beta_{i+1}(y)}{\\mathbb{P}_\\lambda(O_0^n = v_0^n)}$$</div>\n",
    "\n",
    "Démonstration de la proposition 3.4 : Soit $i \\in [0,n-1]$ et $x,y \\in E$. On a :\n",
    "\\begin{align}\n",
    "\\xi_i(x,y) &= \\frac{\\mathbb{P}_\\lambda(X_i = x,X_{i+1} = y, O_0^n = v_0^n)}{\\mathbb{P}_\\lambda(O_0^n = v_0^n)} \\\\\n",
    "&= \\frac{\\mathbb{P}_\\lambda(X_i = x,X_{i+1} = y, O_0^{i} = v_0^{i}, O_{i+1}^{n} = v_{i+1}^{n})}{\\mathbb{P}_\\lambda(O_0^n = v_0^n)}\\\\\n",
    "&= \\frac{\\mathbb{P}_\\lambda(X_i = x, O_0^{i} = v_0^{i}) \\mathbb{P}(X_{i+1} = y, O_{i+1}^{n} = v_{i+1}^{n} | X_i = x, O_0^{i} = v_0^{i})}{\\mathbb{P}_\\lambda(O_0^n = v_0^n)} \\\\\n",
    "&= \\frac{\\alpha_i(x) p_{xy} \\mathbb{P}(O_{i+1}^{n} = v_{i+1}^{n} | X_{i+1} = y, X_i = x) }{\\mathbb{P}_\\lambda(O_0^n = v_0^n)} \\\\\n",
    "&= \\frac{\\alpha_i(x) p_{xy} b_{yv_{i+1}}\\beta_{i+1}(y)}{\\mathbb{P}_\\lambda(O_0^n = v_0^n)} \\ \\ \\ \\text{en reprenant un calcul déjà effectué dans la démo de la propriété 3.3}\n",
    "\\end{align}\n",
    "\n",
    "<div class=\"alert alert-warning\"> <b> Proposition 3.5</b> : $$\\forall i \\in [0,n], \\forall x \\in E, \\ \\gamma_i(x) = \\frac{\\alpha_i(x)\\beta_i(x)}{\\mathbb{P}_\\lambda(O_0^n = v_0^n)}$$</div>\n",
    "\n",
    "Démonstration de la proposition 3.5 : Soit $i \\in [0,n]$ et $x \\in E$. On a :\n",
    "\\begin{align}\n",
    "\\gamma_i(x) &= \\mathbb{P}_\\lambda(X_i = x|O_0^n = v_0^n)\\\\\n",
    "&= \\sum_{y \\in E} \\mathbb{P}_\\lambda(X_i = x, X_{i+1} = y|O_0^n = v_0^n)\\\\\n",
    "&= \\sum_{y \\in E} \\xi_i(x,y)\\\\\n",
    "&= \\sum_{y \\in E} \\frac{\\alpha_i(x)p_{xy}b_{yv_{i+1}}\\beta_{i+1}(y)}{\\mathbb{P}_\\lambda(O_0^n = v_0^n)} \\\\\n",
    "&= \\frac{\\alpha_i(x)}{\\mathbb{P}_\\lambda(O_0^n = v_0^n)} \\sum_{y \\in E} p_{xy}b_{yv_{i+1}}\\beta_{i+1}(y) \\\\\n",
    "&= \\frac{\\alpha_i(x)\\beta_i(x)}{\\mathbb{P}_\\lambda(O_0^n = v_0^n)}\n",
    "\\end{align}\n",
    "\n",
    "<div class=\"alert alert-warning\"> <b> Théorème 3.6 [Formules de réestimation] </b> : On a les formules de réestimation suivantes :  \n",
    " $$\\left\\{\n",
    "    \\begin{array}{l}\n",
    "        \\pi(x) = \\gamma_0(x) \\\\\n",
    "        p_{xy} = \\frac{\\sum_{i=0}^{n-1}\\xi_i(x,y)}{\\sum_{i=0}^{n-1}\\gamma_i(x)}\\\\\n",
    "        b_{xv} = \\frac{\\sum\\limits_{i=0 \\\\ tq \\ v_i = v}^n\\gamma_i(x)}{\\sum_{i=0}^{n}\\gamma_i(x)}\n",
    "    \\end{array}\n",
    "\\right.$$</div>\n",
    "\n",
    "La démonstration de ces formules de réestimation est assez longue. Néanmoins, les grandes idées sont expliquées de manière assez claires [ici](https://ssli.ee.washington.edu/people/duh/projects/EM+MMIE.pdf) et [ici](http://citeseerx.ist.psu.edu/viewdoc/download?doi=10.1.1.335.1457&rep=rep1&type=pdf). L'idée est de maximiser la fonction auxiliaire de Baum par rapport aux nouveaux paramètres afin de trouver un nouveau $\\lambda_{m+1}$ qui nous assure d'améliorer la probabilité $\\mathbb{P}_{\\lambda_{m+1}}(O_0^n = v_0^n)$. En résolvant ce problème d'optimisation, on trouve précisément les formules de réestimation du théorème.\n",
    "\n",
    "Nous avons maintenant toutes les clés en main pour implémenter l'algorithme. Le pseudo-code est donné par :\n",
    "\n",
    "<img src=\"Images/PseudoCodeBaumWelch.png\" width=\"600px\"></img>\n"
   ]
  },
  {
   "cell_type": "code",
   "execution_count": 24,
   "metadata": {},
   "outputs": [],
   "source": [
    "def compute_forward(pi_0,P,B,obs_seq):\n",
    "    \"\"\"Retourne une matrice contenant les coefficients de forward\n",
    "    pi_0 : conditions initiales de la suite cachée\n",
    "    P : matrice de transition\n",
    "    B : matrice d'émission\n",
    "    obs_seq : liste d'observations\n",
    "    \"\"\"\n",
    "    N_etat = P.shape[0]\n",
    "    n_max = len(obs_seq) - 1\n",
    "    \n",
    "    forward = np.zeros((N_etat,n_max+1))\n",
    "    \n",
    "    forward[:,0] = pi_0*B[:,obs_seq[0]]\n",
    "    for i in range(1,n_max+1):\n",
    "        for x in range(N_etat):\n",
    "            prod = forward[:,i-1] * P[:,x] * B[x,obs_seq[i]]\n",
    "            forward[x,i] = np.sum(prod)\n",
    "            \n",
    "    return forward"
   ]
  },
  {
   "cell_type": "code",
   "execution_count": 25,
   "metadata": {},
   "outputs": [],
   "source": [
    "def compute_backward(pi_0,P,B,obs_seq):\n",
    "    \"\"\"Retourne une matrice contenant les coefficients de backward\n",
    "    pi_0 : conditions initiales de la suite cachée\n",
    "    P : matrice de transition\n",
    "    B : matrice d'émission\n",
    "    obs_seq : liste d'observations\n",
    "    \"\"\"\n",
    "    N_etat = P.shape[0]\n",
    "    n_max = len(obs_seq) - 1\n",
    "\n",
    "    backward = np.zeros((N_etat,n_max+1))\n",
    "    \n",
    "    backward[:,n_max] = 1\n",
    "    for i in range(n_max-1,-1,-1):\n",
    "        for x in range(N):\n",
    "            prod = backward[:,i+1] * P[x,:] * B[:,obs_seq[i+1]]\n",
    "            backward[x,i] = np.sum(prod)\n",
    "            \n",
    "    return backward"
   ]
  },
  {
   "cell_type": "code",
   "execution_count": 26,
   "metadata": {},
   "outputs": [],
   "source": [
    "def baum_welch_algorithm(pi_0,P,B,obs_seq,iter_max = 15):\n",
    "    \"\"\"Retourne les paramètres optimaux maximisant la probabilité d'observer la séquence seq_obs\n",
    "    pi_0 : pi_0 initial\n",
    "    P : matrice de transition initiale\n",
    "    B : matrice d'émission initiale\n",
    "    obs_seq : liste d'observations\n",
    "    iter_max : entier naturel - nombre d'itérations de l'algorithme\"\"\"\n",
    "    \n",
    "    current_pi = np.copy(pi_0)\n",
    "    current_P = np.copy(P)\n",
    "    current_B = np.copy(B)\n",
    "    \n",
    "    N = P.shape[0] #Taille de l'espace d'état\n",
    "    V = B.shape[1] #Taille du vocabulaire\n",
    "    n = len(obs_seq) - 1 #instant final de la séquence d'observations\n",
    "    E = list(range(N))\n",
    "    Voc = list(range(V))\n",
    "    \n",
    "    xi = np.zeros((N,N,n))\n",
    "    gamma = np.zeros((N,n+1))\n",
    "    \n",
    "    for k in range(iter_max):\n",
    "        #Calcul des coefficients forward/backward\n",
    "        forwards = compute_forward(current_pi,current_P,current_B,obs_seq)\n",
    "        backwards = compute_backward(current_pi,current_P,current_B,obs_seq)\n",
    "                \n",
    "        #Calcul de xi et gamma\n",
    "        gamma = forwards * backwards / np.sum(forwards[:,n])\n",
    "        for x in E:\n",
    "            for y in E:\n",
    "                for i in range(n):\n",
    "                    xi[x,y,i] = forwards[x,i] * backwards[y,i+1] * current_P[x,y] * current_B[y,obs_seq[i+1]]\n",
    "        xi = xi/np.sum(forwards[:,n])\n",
    "        \n",
    "        #Réestimation des paramètres\n",
    "        current_pi = gamma[:,0]\n",
    "        for x in E:\n",
    "            for y in E:\n",
    "                current_P[x,y] = np.sum(xi[x,y,:])/np.sum(gamma[x,:-1])\n",
    "            for v in Voc:\n",
    "                current_B[x,v] = np.sum(gamma[x,:][np.where(np.array(obs_seq)==v)[0]])/np.sum(gamma[x,:])\n",
    "    \n",
    "    return current_pi,current_P,current_B"
   ]
  },
  {
   "cell_type": "code",
   "execution_count": 27,
   "metadata": {
    "scrolled": false
   },
   "outputs": [
    {
     "name": "stdout",
     "output_type": "stream",
     "text": [
      "Observation = ['Hot', 'Hot', 'Cold', 'Hot', 'Cold']\n"
     ]
    },
    {
     "data": {
      "text/plain": [
       "(array([0., 1., 0.]),\n",
       " array([[0., 0., 1.],\n",
       "        [1., 0., 0.],\n",
       "        [1., 0., 0.]]),\n",
       " array([[0., 1.],\n",
       "        [0., 1.],\n",
       "        [1., 0.]]))"
      ]
     },
     "execution_count": 27,
     "metadata": {},
     "output_type": "execute_result"
    }
   ],
   "source": [
    "sequence = [1,1,0,1,0]\n",
    "print(\"Observation = {}\".format([inv_vocabulaire[x] for x in sequence]))\n",
    "new_pi,new_P,new_B = baum_welch_algorithm(pi_0,P,B,sequence)\n",
    "np.round(new_pi,3),np.round(new_P,3), np.round(new_B,3)"
   ]
  },
  {
   "cell_type": "code",
   "execution_count": 28,
   "metadata": {},
   "outputs": [
    {
     "name": "stdout",
     "output_type": "stream",
     "text": [
      "Avec ces nouveaux paramètres, la probabilité d'observer ['Hot', 'Hot', 'Cold', 'Hot', 'Cold'] est 1.0\n"
     ]
    }
   ],
   "source": [
    "print(\"Avec ces nouveaux paramètres, la probabilité d'observer {} est {}\".format(\n",
    "    [inv_vocabulaire[x] for x in sequence],forward_algorithm(sequence,new_pi,new_P,new_B)))"
   ]
  },
  {
   "cell_type": "markdown",
   "metadata": {},
   "source": [
    "On peut faire quelques remarques importantes : \n",
    "* l'algorithme de Baum-Welch a une complexité en $\\mathcal{O}(nN^2)$\n",
    "* le résultat dépend très fortement du point de départ. Par exemple, si certaines valeurs de $P$ ou $B$ sont nulles au départ, elles le resteront tout au long de la procédure\n",
    "* le maximum atteint n'est qu'un maximum local et non global. C'est pourquoi le choix du point de départ est crucial et détermine le maximum local dans lequel on s'arrête\n",
    "* sous certaines conditions, l'algorithme peut même ne pas converger du tout (une division pas 0 est si vite arrivée). C'est souvent le cas lorsque l'on a aucune idée de la solution optimale\n",
    "* enfin, il est possible de généraliser cet algorithme avec plusieurs observations (de longueurs potentiellement différentes). Il est alors nécessaire de prendre en compte toutes les séquences dans la mise à jour des paramètres."
   ]
  },
  {
   "cell_type": "code",
   "execution_count": 29,
   "metadata": {},
   "outputs": [
    {
     "name": "stdout",
     "output_type": "stream",
     "text": [
      "Observation = ['Hot', 'Hot', 'Cold', 'Hot', 'Cold']\n"
     ]
    },
    {
     "data": {
      "text/plain": [
       "(array([0.333, 0.333, 0.333]),\n",
       " array([[0.333, 0.333, 0.333],\n",
       "        [0.333, 0.333, 0.333],\n",
       "        [0.333, 0.333, 0.333]]),\n",
       " array([[0.4, 0.6],\n",
       "        [0.4, 0.6],\n",
       "        [0.4, 0.6]]))"
      ]
     },
     "execution_count": 29,
     "metadata": {},
     "output_type": "execute_result"
    }
   ],
   "source": [
    "#Algorithme de Baum-Welch avec un autre point de départ\n",
    "print(\"Observation = {}\".format([inv_vocabulaire[x] for x in sequence]))\n",
    "pi_0_test = np.array([1/3,1/3,1/3])\n",
    "P_test = np.array([[1/3,1/3,1/3],[1/3,1/3,1/3],[1/3,1/3,1/3]])\n",
    "B_test = np.array([[1/2,1/2],[1/2,1/2],[1/2,1/2]])\n",
    "new_pi,new_P,new_B = baum_welch_algorithm(pi_0_test,P_test,B_test,sequence)\n",
    "np.round(new_pi,3),np.round(new_P,3), np.round(new_B,3)"
   ]
  },
  {
   "cell_type": "markdown",
   "metadata": {},
   "source": [
    "# 4. <a id=\"sec4\"></a> Cas d'application : Part-of-Speech tagging\n",
    "\n",
    "Que ce soit pour les êtres humains ou les ordinateurs, l'identification de la catégorie syntaxique de chaque mot (ou *Part-of-Speech tagging*) d'une phrase a une grande importance dans le traitement du langage naturel : \n",
    "\n",
    "* pour comprendre le sens et la structure de la phrase\n",
    "* pour comprendre le lien entre les mots : un nom est souvent précédé d'un déterminant par exemple\n",
    "* pour enlever des ambiguités : un mot peut avoir plusieurs sens, qui dépend alors du contexte de la phrase\n",
    "\n",
    "Nous, les êtres humains, apprenons à identifier la catégorie syntaxique de chaque mot d'une phrase dès l'enfance afin que ce processus deviennent de plus en plus naturel jusqu'à ce qu'il devienne quasi instinctif. En revanche, un ordinateur ne sait pas le faire tout seul. Il est donc nécessaire de développer un modèle mathématique capable de le faire automatiquement étant donnée une phrase. Nous allons ici construire un tel modèle à l'aide d'un modèle de Markov caché.  \n",
    "En pratique, on utilise le POS tagging entre autre dans la synthèse vocale afin de déterminer la bonne prononciation d'un mot lorsqu'il en possède plusieurs selon le contexte.  \n",
    "[Standford](https://web.stanford.edu/~jurafsky/slp3/8.pdf) donne une bonne vision global de ce problème.\n",
    "\n",
    "## 4.1 Définition du modèle et stratégie\n",
    "\n",
    "### 4.1.1 Problème d'ambigüité\n",
    "\n",
    "Part-of-Speech tagging consiste à assigner un label, ou un tag, à chaque mot d'une phrase. Autrement dit, à partir d'une séquence $v_0,...,v_n$ de mots appartenant à un vocabulaire $\\mathcal{V}$, on veut prédire la séquence de tags $x_0,...,x_n$ associée (à valeurs dans une liste de tag $E$), où le tag $x_i$ correspond au mot $v_i$.\n",
    "\n",
    "<img src=\"Images/POSTagger.png\" width=\"600px\"></img>\n",
    "\n",
    "À chaque phrase, il existe une et une seule séquence de tag associée : il s'agit donc d'un processus non ambigu. En revanche, les mots sont ambigus : un mot peut avoir plusieurs significations et donc plusieurs tags possibles qui sera alors déterminé par le sens de la phrase. Le problème, comme [Standford](https://web.stanford.edu/~jurafsky/slp3/8.pdf) le démontre, c'est que bien que peu de mots soient ambigus (ie possèdent plusieurs tags), ils sont très fréquemment utilisés dans le langage.\n",
    "\n",
    "### 4.1.2 Modèle de Markov caché\n",
    "\n",
    "Pour résoudre ce problème, nous allons utiliser un modèle de Markov caché. On note : \n",
    "\n",
    "* $E$ **l'espace d'états** : l'ensemble des tags possibles, ou encore l'ensemble des catégories syntaxiques considérées\n",
    "* $\\mathcal{V}$ **le vocabulaire** : l'ensemble des mots du que le modèle connaîtra\n",
    "\n",
    "Ce choix implique que l'on effectue les hypothèses suivantes : \n",
    "\n",
    "* **le tag à l'instant $i+1$ ne dépend que du tag à l'instant $i$**, ce qui permet d'inclure la temporalité propre au traitement du langage naturel\n",
    "* **le mot observé à l'instant $i$ ne dépend que du tag à cet instant**\n",
    "* toutes les probabilités ne dépendent pas du temps, autrement dit le modèle est supposé **homogène en temps** et **stationnaire**\n",
    "\n",
    "Pour pleinement déterminer le modèle, il faut définir ses paramètres les conditions initiales $\\pi_0$, la matrice de transition $P$ et la matrice d'émission $B$. Étant donné un data set contenant un certain nombre de phrases, on définit alors : \n",
    "\n",
    "$$\\pi_0(x) = \\frac{\\text{nombre de phrases où $x$ est le premier tag}}{\\text{nombre total de phrases}} = $$\n",
    "\n",
    "$$P_{xy} = \\frac{\\text{nombre de fois où la transition $x$ à $y$ a été effectuée}}{\\text{nombre de transitions à partir de $x$}} = $$\n",
    "\n",
    "$$B_{xv} = \\frac{\\text{nombre de fois où le modèle s’est trouvé dans l’état $x$ en observant $v$}}{\\text{nombre de fois où le modèle s’est trouvé dans l’état $x$ }} = $$\n",
    "\n",
    "### 4.1.3 Stratégie\n",
    "\n",
    "Nous venons de définir le modèle de Markov caché $\\lambda = (\\pi_0,P,B)$. Notre but est alors de déterminer, étant donnée une phrase $x_0^n \\in \\mathcal{V}^{n+1}$, la séquence de tags associée la plus probable. Autrement dit, on va chercher la séquence $x_0^n \\in E^{n+1}$ qui maximise $\\mathbb{P}_\\lambda(X_0^n = x_0^n | O_0^n = v_0^n)$.  \n",
    "Or on a : \n",
    "\\begin{align}\n",
    "\\underset{x_0^n\\in E^{n+1}}{\\text{argmax}} \\ \\mathbb{P}_\\lambda(X_0^n = x_0^n | O_0^n = v_0^n) &= \\underset{x_0^n\\in E^{n+1}}{\\text{argmax}} \\ \\frac{\\mathbb{P}_\\lambda(X_0^n = x_0^n, O_0^n = v_0^n)}{\\mathbb{P}_\\lambda(O_0^n = v_0^n)} \\\\\n",
    "&= \\underset{x_0^n\\in E^{n+1}}{\\text{argmax}} \\ \\mathbb{P}_\\lambda(X_0^n = x_0^n, O_0^n = v_0^n) \\hspace{1cm} \\text{car $\\mathbb{P}_\\lambda(O_0^n = v_0^n)$ est une constante}\n",
    "\\end{align}\n",
    "\n",
    "Finalement, étant donnée une phrase $x_0^n \\in \\mathcal{V}^{n+1}$, trouver sa suite de tags associée avec un modèle de Markov caché revient à résoudre le problème d'optimsation $\\underset{x_0^n\\in E^{n+1}}{\\text{argmax}} \\ \\mathbb{P}_\\lambda(X_0^n = x_0^n, O_0^n = v_0^n)$, ce que l'on sait faire efficacement grâce à **l'algorithme de Viterbi**.\n",
    "\n",
    "## 4.2 Chargement et formatage du Data set\n",
    "\n",
    "Nous disposons d'un data set dans le fichier *brown-universal.txt*, qui est une copie du [Brown corpus](https://en.wikipedia.org/wiki/Brown_Corpus) qui a déjà été formaté afin qu'il contienne les associations *mot/tags*.  \n",
    "Dans le fichier, chaque phrase commence par une clé unique sur la première ligne. Ensuite, sur chacune des lignes suivantes, chaque pair *mot/tag* est séparée par une tabulation. Enfin, les phrases sont séparées par un saut de ligne.\n",
    "\n",
    "    b100-6250\n",
    "    My\tDET\n",
    "    future\tADJ\n",
    "    plans\tNOUN\n",
    "    are\tVERB\n",
    "    to\tPRT\n",
    "    become\tVERB\n",
    "    a\tDET\n",
    "    language\tNOUN\n",
    "    teacher\tNOUN\n",
    "    .\t.\n",
    "\n",
    "    b100-39560\n",
    "    We\tPRON\n",
    "    ran\tVERB\n",
    "    east\tNOUN\n",
    "    for\tADP"
   ]
  },
  {
   "cell_type": "code",
   "execution_count": 30,
   "metadata": {},
   "outputs": [],
   "source": [
    "#Chargement et formatage du data set\n",
    "data_set = {}\n",
    "tagset = []\n",
    "vocab = []\n",
    "with open(\"brown-universal.txt\", \"r\") as filin:\n",
    "    for ligne in filin:\n",
    "        line = ligne.split('\\t')\n",
    "        if len(line) == 1:\n",
    "            if '\\n' not in line:\n",
    "                current_key = line[0][:-1]\n",
    "                data_set[current_key] = {\"sentence\" : [], \"tag\" : []}\n",
    "        else:\n",
    "            word,tag = [line[0],line[1][:-1]]\n",
    "            vocab.append(word)\n",
    "            tagset.append(tag)\n",
    "            data_set[current_key][\"sentence\"].append(word)\n",
    "            data_set[current_key][\"tag\"].append(tag)\n",
    "   \n",
    "    #Création de l'espace d'états et du vocabulaire\n",
    "tagset = list(set(tagset))\n",
    "vocab = list(set(vocab))"
   ]
  },
  {
   "cell_type": "code",
   "execution_count": 31,
   "metadata": {},
   "outputs": [],
   "source": [
    "tagset = sorted(tagset,key = str.lower)\n",
    "vocab = sorted(vocab,key = str.lower)"
   ]
  },
  {
   "cell_type": "code",
   "execution_count": 32,
   "metadata": {},
   "outputs": [],
   "source": [
    "#Création des correspondance entier/mots et entier/tag\n",
    "\n",
    "vocabulary = {}\n",
    "states = {}\n",
    "\n",
    "i = 0\n",
    "for word in vocab:\n",
    "    vocabulary[i] = word\n",
    "    i = i+1\n",
    "    \n",
    "i = 0\n",
    "for tag in tagset:\n",
    "    states[i] = tag\n",
    "    i = i+1\n",
    "\n",
    "inv_states = dict((tag,label) for label,tag in states.items())\n",
    "inv_vocabulary = dict((word,label) for label,word in vocabulary.items())"
   ]
  },
  {
   "cell_type": "code",
   "execution_count": 33,
   "metadata": {},
   "outputs": [
    {
     "name": "stdout",
     "output_type": "stream",
     "text": [
      "L'espace d'états contient 12 éléments.\n",
      "Le vocabulaire contient 56057 mots.\n"
     ]
    }
   ],
   "source": [
    "N = len(states) #Taille de l'espace d'états\n",
    "V = len(vocabulary) #Taille du vocabulaire\n",
    "print(\"L'espace d'états contient {} éléments.\".format(N))\n",
    "print(\"Le vocabulaire contient {} mots.\".format(V))"
   ]
  },
  {
   "cell_type": "code",
   "execution_count": 34,
   "metadata": {},
   "outputs": [],
   "source": [
    "#Création des sets d'entraînement et de test\n",
    "from random import shuffle\n",
    "keys = list(data_set.keys())\n",
    "shuffle(keys)\n",
    "train_keys, test_keys = keys[:4*len(keys)//5], keys[4*len(keys)//5:]\n",
    "\n",
    "train_set = {}\n",
    "test_set = {}\n",
    "for key in train_keys:\n",
    "    train_set[key] = data_set[key]\n",
    "for key in test_keys:\n",
    "    test_set[key] = data_set[key]"
   ]
  },
  {
   "cell_type": "code",
   "execution_count": 38,
   "metadata": {},
   "outputs": [
    {
     "name": "stdout",
     "output_type": "stream",
     "text": [
      "Le data set complet contient 57340 phrases.\n",
      "Le set d'entraînement contient 45872 phrases.\n",
      "Le set de test contient 11468 phrases.\n"
     ]
    }
   ],
   "source": [
    "print(\"Le data set complet contient {} phrases.\".format(len(data_set)))\n",
    "print(\"Le set d'entraînement contient {} phrases.\".format(len(train_set)))\n",
    "print(\"Le set de test contient {} phrases.\".format(len(test_set)))"
   ]
  },
  {
   "cell_type": "code",
   "execution_count": 39,
   "metadata": {},
   "outputs": [],
   "source": [
    "#Vocabulaire d'entraînement\n",
    "train_vocab = []\n",
    "for key in train_set:\n",
    "    train_vocab += train_set[key][\"sentence\"]\n",
    "train_vocab = set(train_vocab)"
   ]
  },
  {
   "cell_type": "code",
   "execution_count": 40,
   "metadata": {},
   "outputs": [
    {
     "name": "stdout",
     "output_type": "stream",
     "text": [
      "Sentence : b100-43973\n",
      "\n",
      "Words :\n",
      "\tThis , you will remember , was still New Year's Day .\n",
      "\n",
      "Corresponding tags :\n",
      "\tDET . PRON VERB VERB . VERB ADV ADJ NOUN NOUN .\n"
     ]
    }
   ],
   "source": [
    "#Exemple tiré du data set\n",
    "key = keys[0]\n",
    "sample = data_set[key]\n",
    "print(\"Sentence : \"+key)\n",
    "print(\"\\nWords :\")\n",
    "print(\"\\t\" + \" \".join(sample[\"sentence\"]))\n",
    "print(\"\\nCorresponding tags :\")\n",
    "print(\"\\t\" +\" \".join(sample[\"tag\"]))"
   ]
  },
  {
   "cell_type": "markdown",
   "metadata": {},
   "source": [
    "## 4.3 Création des paramètres du modèle de Markov caché\n",
    "\n",
    "À partir du set d'entraînement, nous allons calculer les paramètres $\\lambda = (\\pi_0,P,B)$ du modèle de Markov cachée à l'aide des formules énoncées plus haut."
   ]
  },
  {
   "cell_type": "code",
   "execution_count": 49,
   "metadata": {},
   "outputs": [],
   "source": [
    "#Création de pi_0 et de P à partir du set d'entraînement\n",
    "pi_0 = np.zeros(N)\n",
    "P = np.zeros((N,N))\n",
    "for key in train_set:\n",
    "    tag_sample = train_set[key][\"tag\"]\n",
    "    first_tag = tag_sample[0]\n",
    "    pi_0[inv_states[first_tag]] += 1\n",
    "    for tag1,tag2 in zip(tag_sample[:-1],tag_sample[1:]):\n",
    "        P[inv_states[tag1],inv_states[tag2]] += 1\n",
    "        \n",
    "pi_0 = pi_0/np.sum(pi_0)\n",
    "for i in range(P.shape[0]):\n",
    "    P[i] = P[i]/np.sum(P[i])"
   ]
  },
  {
   "cell_type": "code",
   "execution_count": 50,
   "metadata": {},
   "outputs": [],
   "source": [
    "#Création de B à partir du set d'entraînement\n",
    "B = np.zeros((N,V))\n",
    "for key in train_set:\n",
    "    sentence,tag = train_set[key][\"sentence\"], train_set[key][\"tag\"]\n",
    "    for i in range(len(sentence)):\n",
    "        B[inv_states[tag[i]],inv_vocabulary[sentence[i]]] += 1\n",
    "        \n",
    "for i in range(B.shape[0]):\n",
    "    B[i] = B[i]/np.sum(B[i])"
   ]
  },
  {
   "cell_type": "markdown",
   "metadata": {},
   "source": [
    "## 4.4 Prédictions et performances\n",
    "\n",
    "Nous sommes prêts pour faire des prédictions et évaluer les performances du modèles sur le set d'entraînement."
   ]
  },
  {
   "cell_type": "code",
   "execution_count": 51,
   "metadata": {},
   "outputs": [],
   "source": [
    "def all_word_in_train_vocab(sequence):\n",
    "    \"\"\"Retourne True si tous les mots de la séquence sont dans le vocabulaire d'entraînement\n",
    "    sequence : liste de mots (string)\"\"\"\n",
    "    for word in sequence:\n",
    "        if word not in train_vocab:\n",
    "            return False\n",
    "    return True"
   ]
  },
  {
   "cell_type": "code",
   "execution_count": 52,
   "metadata": {},
   "outputs": [],
   "source": [
    "def accuracy(data_set,pi_0,P,B,check_word = True):\n",
    "    \"\"\"Retourne la proportion de bonnes prédictions sur un data set donné, la matrice de confusion et les clés des prédictions fausses\n",
    "    data_set : dictionnaire contenant les mots et les tags\n",
    "    pi_0 : conditions initiales\n",
    "    P : matrice de transition\n",
    "    B : matrice d'émission\n",
    "    check_word : \"\"\"\n",
    "    keys = list(data_set.keys())\n",
    "    nb_pred = 0\n",
    "    true_pred = 0\n",
    "    confusion_matrix = np.zeros((N,N)) #Matrice de confusion\n",
    "    wrong_keys = []\n",
    "    \n",
    "    for i,key in enumerate(keys):\n",
    "        sample = data_set[key]\n",
    "        \n",
    "        #On ne prend que les exemples dont tous les mots sont dans le vocabulaire d'entraînement\n",
    "        if check_word == True:\n",
    "            if all_word_in_train_vocab(sample[\"sentence\"]) == True:\n",
    "                observations = [inv_vocabulary[x] for x in sample[\"sentence\"]]\n",
    "                predicted_tags,proba = viterbi_algorithm(observations,pi_0,P,B)\n",
    "                true_tags = [inv_states[x] for x in sample[\"tag\"]]\n",
    "                true_pred += sum(p==t for (p,t) in zip(predicted_tags,true_tags))\n",
    "                for j in range(len(predicted_tags)):\n",
    "                    confusion_matrix[predicted_tags[j],true_tags[j]] +=1\n",
    "                if sum(p==t for (p,t) in zip(predicted_tags,true_tags)) != len(predicted_tags):\n",
    "                    wrong_keys.append(key)\n",
    "                \n",
    "                nb_pred += len(predicted_tags)\n",
    "                \n",
    "        else:\n",
    "            observations = [inv_vocabulary[x] for x in sample[\"sentence\"]]\n",
    "            predicted_tags,proba = viterbi_algorithm(observations,pi_0,P,B)\n",
    "            true_tags = [inv_states[x] for x in sample[\"tag\"]]\n",
    "            true_pred += sum(p==t for (p,t) in zip(predicted_tags,true_tags))\n",
    "            for j in range(len(predicted_tags)):\n",
    "                confusion_matrix[predicted_tags[j],true_tags[j]] +=1\n",
    "            if sum(p==t for (p,t) in zip(predicted_tags,true_tags)) != len(predicted_tags):\n",
    "                wrong_keys.append(key)\n",
    "            nb_pred += len(predicted_tags)\n",
    "            \n",
    "        if (i%1000 == 0):\n",
    "            print(\"*\",end='')\n",
    "    \n",
    "    print(\"\\nL'algorithme a effectué {} prédictions.\".format(nb_pred))\n",
    "    return true_pred/nb_pred, confusion_matrix,wrong_keys"
   ]
  },
  {
   "cell_type": "code",
   "execution_count": 53,
   "metadata": {},
   "outputs": [
    {
     "name": "stdout",
     "output_type": "stream",
     "text": [
      "************\n",
      "L'algorithme a effectué 229959 prédictions.\n"
     ]
    },
    {
     "data": {
      "text/plain": [
       "0.7630186250592497"
      ]
     },
     "execution_count": 53,
     "metadata": {},
     "output_type": "execute_result"
    }
   ],
   "source": [
    "acc,confusion_matrix,wrong_keys = accuracy(test_set,pi_0,P,B,check_word=False)\n",
    "acc"
   ]
  },
  {
   "cell_type": "code",
   "execution_count": 54,
   "metadata": {},
   "outputs": [
    {
     "data": {
      "text/html": [
       "<div>\n",
       "<style scoped>\n",
       "    .dataframe tbody tr th:only-of-type {\n",
       "        vertical-align: middle;\n",
       "    }\n",
       "\n",
       "    .dataframe tbody tr th {\n",
       "        vertical-align: top;\n",
       "    }\n",
       "\n",
       "    .dataframe thead th {\n",
       "        text-align: right;\n",
       "    }\n",
       "</style>\n",
       "<table border=\"1\" class=\"dataframe\">\n",
       "  <thead>\n",
       "    <tr style=\"text-align: right;\">\n",
       "      <th></th>\n",
       "      <th>.</th>\n",
       "      <th>ADJ</th>\n",
       "      <th>ADP</th>\n",
       "      <th>ADV</th>\n",
       "      <th>CONJ</th>\n",
       "      <th>DET</th>\n",
       "      <th>NOUN</th>\n",
       "      <th>NUM</th>\n",
       "      <th>PRON</th>\n",
       "      <th>PRT</th>\n",
       "      <th>VERB</th>\n",
       "      <th>X</th>\n",
       "    </tr>\n",
       "  </thead>\n",
       "  <tbody>\n",
       "    <tr>\n",
       "      <th>.</th>\n",
       "      <td>29153.0</td>\n",
       "      <td>4653.0</td>\n",
       "      <td>7153.0</td>\n",
       "      <td>2233.0</td>\n",
       "      <td>2148.0</td>\n",
       "      <td>5813.0</td>\n",
       "      <td>16381.0</td>\n",
       "      <td>879.0</td>\n",
       "      <td>1495.0</td>\n",
       "      <td>1140.0</td>\n",
       "      <td>7745.0</td>\n",
       "      <td>128.0</td>\n",
       "    </tr>\n",
       "    <tr>\n",
       "      <th>ADJ</th>\n",
       "      <td>0.0</td>\n",
       "      <td>11294.0</td>\n",
       "      <td>16.0</td>\n",
       "      <td>325.0</td>\n",
       "      <td>0.0</td>\n",
       "      <td>0.0</td>\n",
       "      <td>299.0</td>\n",
       "      <td>0.0</td>\n",
       "      <td>0.0</td>\n",
       "      <td>1.0</td>\n",
       "      <td>61.0</td>\n",
       "      <td>0.0</td>\n",
       "    </tr>\n",
       "    <tr>\n",
       "      <th>ADP</th>\n",
       "      <td>0.0</td>\n",
       "      <td>6.0</td>\n",
       "      <td>20889.0</td>\n",
       "      <td>275.0</td>\n",
       "      <td>0.0</td>\n",
       "      <td>104.0</td>\n",
       "      <td>3.0</td>\n",
       "      <td>0.0</td>\n",
       "      <td>76.0</td>\n",
       "      <td>333.0</td>\n",
       "      <td>38.0</td>\n",
       "      <td>3.0</td>\n",
       "    </tr>\n",
       "    <tr>\n",
       "      <th>ADV</th>\n",
       "      <td>0.0</td>\n",
       "      <td>354.0</td>\n",
       "      <td>315.0</td>\n",
       "      <td>8263.0</td>\n",
       "      <td>19.0</td>\n",
       "      <td>21.0</td>\n",
       "      <td>22.0</td>\n",
       "      <td>0.0</td>\n",
       "      <td>0.0</td>\n",
       "      <td>31.0</td>\n",
       "      <td>16.0</td>\n",
       "      <td>2.0</td>\n",
       "    </tr>\n",
       "    <tr>\n",
       "      <th>CONJ</th>\n",
       "      <td>0.0</td>\n",
       "      <td>0.0</td>\n",
       "      <td>28.0</td>\n",
       "      <td>16.0</td>\n",
       "      <td>5289.0</td>\n",
       "      <td>5.0</td>\n",
       "      <td>0.0</td>\n",
       "      <td>0.0</td>\n",
       "      <td>0.0</td>\n",
       "      <td>0.0</td>\n",
       "      <td>0.0</td>\n",
       "      <td>0.0</td>\n",
       "    </tr>\n",
       "    <tr>\n",
       "      <th>DET</th>\n",
       "      <td>0.0</td>\n",
       "      <td>0.0</td>\n",
       "      <td>18.0</td>\n",
       "      <td>23.0</td>\n",
       "      <td>6.0</td>\n",
       "      <td>21074.0</td>\n",
       "      <td>6.0</td>\n",
       "      <td>0.0</td>\n",
       "      <td>40.0</td>\n",
       "      <td>0.0</td>\n",
       "      <td>0.0</td>\n",
       "      <td>3.0</td>\n",
       "    </tr>\n",
       "    <tr>\n",
       "      <th>NOUN</th>\n",
       "      <td>0.0</td>\n",
       "      <td>197.0</td>\n",
       "      <td>3.0</td>\n",
       "      <td>24.0</td>\n",
       "      <td>0.0</td>\n",
       "      <td>5.0</td>\n",
       "      <td>37359.0</td>\n",
       "      <td>41.0</td>\n",
       "      <td>2.0</td>\n",
       "      <td>16.0</td>\n",
       "      <td>775.0</td>\n",
       "      <td>15.0</td>\n",
       "    </tr>\n",
       "    <tr>\n",
       "      <th>NUM</th>\n",
       "      <td>0.0</td>\n",
       "      <td>0.0</td>\n",
       "      <td>0.0</td>\n",
       "      <td>0.0</td>\n",
       "      <td>0.0</td>\n",
       "      <td>0.0</td>\n",
       "      <td>58.0</td>\n",
       "      <td>2065.0</td>\n",
       "      <td>0.0</td>\n",
       "      <td>0.0</td>\n",
       "      <td>0.0</td>\n",
       "      <td>0.0</td>\n",
       "    </tr>\n",
       "    <tr>\n",
       "      <th>PRON</th>\n",
       "      <td>0.0</td>\n",
       "      <td>0.0</td>\n",
       "      <td>48.0</td>\n",
       "      <td>1.0</td>\n",
       "      <td>0.0</td>\n",
       "      <td>198.0</td>\n",
       "      <td>1.0</td>\n",
       "      <td>0.0</td>\n",
       "      <td>8182.0</td>\n",
       "      <td>3.0</td>\n",
       "      <td>0.0</td>\n",
       "      <td>3.0</td>\n",
       "    </tr>\n",
       "    <tr>\n",
       "      <th>PRT</th>\n",
       "      <td>0.0</td>\n",
       "      <td>28.0</td>\n",
       "      <td>238.0</td>\n",
       "      <td>101.0</td>\n",
       "      <td>0.0</td>\n",
       "      <td>0.0</td>\n",
       "      <td>9.0</td>\n",
       "      <td>0.0</td>\n",
       "      <td>0.0</td>\n",
       "      <td>4422.0</td>\n",
       "      <td>5.0</td>\n",
       "      <td>0.0</td>\n",
       "    </tr>\n",
       "    <tr>\n",
       "      <th>VERB</th>\n",
       "      <td>0.0</td>\n",
       "      <td>69.0</td>\n",
       "      <td>23.0</td>\n",
       "      <td>5.0</td>\n",
       "      <td>0.0</td>\n",
       "      <td>0.0</td>\n",
       "      <td>382.0</td>\n",
       "      <td>0.0</td>\n",
       "      <td>0.0</td>\n",
       "      <td>3.0</td>\n",
       "      <td>27416.0</td>\n",
       "      <td>5.0</td>\n",
       "    </tr>\n",
       "    <tr>\n",
       "      <th>X</th>\n",
       "      <td>0.0</td>\n",
       "      <td>0.0</td>\n",
       "      <td>0.0</td>\n",
       "      <td>0.0</td>\n",
       "      <td>1.0</td>\n",
       "      <td>0.0</td>\n",
       "      <td>3.0</td>\n",
       "      <td>0.0</td>\n",
       "      <td>0.0</td>\n",
       "      <td>0.0</td>\n",
       "      <td>1.0</td>\n",
       "      <td>57.0</td>\n",
       "    </tr>\n",
       "  </tbody>\n",
       "</table>\n",
       "</div>"
      ],
      "text/plain": [
       "            .      ADJ      ADP     ADV    CONJ      DET     NOUN     NUM  \\\n",
       ".     29153.0   4653.0   7153.0  2233.0  2148.0   5813.0  16381.0   879.0   \n",
       "ADJ       0.0  11294.0     16.0   325.0     0.0      0.0    299.0     0.0   \n",
       "ADP       0.0      6.0  20889.0   275.0     0.0    104.0      3.0     0.0   \n",
       "ADV       0.0    354.0    315.0  8263.0    19.0     21.0     22.0     0.0   \n",
       "CONJ      0.0      0.0     28.0    16.0  5289.0      5.0      0.0     0.0   \n",
       "DET       0.0      0.0     18.0    23.0     6.0  21074.0      6.0     0.0   \n",
       "NOUN      0.0    197.0      3.0    24.0     0.0      5.0  37359.0    41.0   \n",
       "NUM       0.0      0.0      0.0     0.0     0.0      0.0     58.0  2065.0   \n",
       "PRON      0.0      0.0     48.0     1.0     0.0    198.0      1.0     0.0   \n",
       "PRT       0.0     28.0    238.0   101.0     0.0      0.0      9.0     0.0   \n",
       "VERB      0.0     69.0     23.0     5.0     0.0      0.0    382.0     0.0   \n",
       "X         0.0      0.0      0.0     0.0     1.0      0.0      3.0     0.0   \n",
       "\n",
       "        PRON     PRT     VERB      X  \n",
       ".     1495.0  1140.0   7745.0  128.0  \n",
       "ADJ      0.0     1.0     61.0    0.0  \n",
       "ADP     76.0   333.0     38.0    3.0  \n",
       "ADV      0.0    31.0     16.0    2.0  \n",
       "CONJ     0.0     0.0      0.0    0.0  \n",
       "DET     40.0     0.0      0.0    3.0  \n",
       "NOUN     2.0    16.0    775.0   15.0  \n",
       "NUM      0.0     0.0      0.0    0.0  \n",
       "PRON  8182.0     3.0      0.0    3.0  \n",
       "PRT      0.0  4422.0      5.0    0.0  \n",
       "VERB     0.0     3.0  27416.0    5.0  \n",
       "X        0.0     0.0      1.0   57.0  "
      ]
     },
     "execution_count": 54,
     "metadata": {},
     "output_type": "execute_result"
    }
   ],
   "source": [
    "pd.DataFrame(confusion_matrix,index=tagset,columns = tagset)"
   ]
  },
  {
   "cell_type": "code",
   "execution_count": 61,
   "metadata": {},
   "outputs": [
    {
     "name": "stdout",
     "output_type": "stream",
     "text": [
      "Sentence : b100-56761\n",
      "Words :\n",
      "\t`` I see the girl but I don't see the car with slacks on '' .\n",
      "\\True tags :\n",
      "\t. PRON VERB DET NOUN CONJ PRON VERB VERB DET NOUN ADP NOUN PRT . .\n",
      "\n",
      "Predicted tags :\n",
      "\t. PRON VERB DET NOUN CONJ PRON VERB VERB DET NOUN ADP NOUN ADP . .\n"
     ]
    }
   ],
   "source": [
    "wrong_key = wrong_keys[0]\n",
    "exemple = test_set[wrong_key]\n",
    "print(\"Sentence : \"+wrong_key)\n",
    "print(\"Words :\")\n",
    "print(\"\\t\" + \" \".join(exemple[\"sentence\"]))\n",
    "print(\"\\True tags :\")\n",
    "print(\"\\t\" +\" \".join(exemple[\"tag\"]))\n",
    "print(\"\\nPredicted tags :\")\n",
    "tags = [states[y] for y in viterbi_algorithm([inv_vocabulary[x] for x in exemple[\"sentence\"]],pi_0,P,B)[0]]\n",
    "print(\"\\t\" + \" \".join(tags))"
   ]
  },
  {
   "cell_type": "markdown",
   "metadata": {},
   "source": [
    "Problème lorsqu'un mot du test set n'apparaît jamais dans le set d'entraînement."
   ]
  },
  {
   "cell_type": "code",
   "execution_count": 56,
   "metadata": {},
   "outputs": [
    {
     "name": "stdout",
     "output_type": "stream",
     "text": [
      "************\n",
      "L'algorithme a effectué 134397 prédictions.\n"
     ]
    },
    {
     "data": {
      "text/plain": [
       "0.9730574343177303"
      ]
     },
     "execution_count": 56,
     "metadata": {},
     "output_type": "execute_result"
    }
   ],
   "source": [
    "acc,confusion_matrix,wrong_keys = accuracy(test_set,pi_0,P,B)\n",
    "acc"
   ]
  },
  {
   "cell_type": "code",
   "execution_count": 58,
   "metadata": {},
   "outputs": [
    {
     "data": {
      "text/html": [
       "<div>\n",
       "<style scoped>\n",
       "    .dataframe tbody tr th:only-of-type {\n",
       "        vertical-align: middle;\n",
       "    }\n",
       "\n",
       "    .dataframe tbody tr th {\n",
       "        vertical-align: top;\n",
       "    }\n",
       "\n",
       "    .dataframe thead th {\n",
       "        text-align: right;\n",
       "    }\n",
       "</style>\n",
       "<table border=\"1\" class=\"dataframe\">\n",
       "  <thead>\n",
       "    <tr style=\"text-align: right;\">\n",
       "      <th></th>\n",
       "      <th>.</th>\n",
       "      <th>ADJ</th>\n",
       "      <th>ADP</th>\n",
       "      <th>ADV</th>\n",
       "      <th>CONJ</th>\n",
       "      <th>DET</th>\n",
       "      <th>NOUN</th>\n",
       "      <th>NUM</th>\n",
       "      <th>PRON</th>\n",
       "      <th>PRT</th>\n",
       "      <th>VERB</th>\n",
       "      <th>X</th>\n",
       "    </tr>\n",
       "  </thead>\n",
       "  <tbody>\n",
       "    <tr>\n",
       "      <th>.</th>\n",
       "      <td>17453.0</td>\n",
       "      <td>0.0</td>\n",
       "      <td>0.0</td>\n",
       "      <td>0.0</td>\n",
       "      <td>0.0</td>\n",
       "      <td>0.0</td>\n",
       "      <td>0.0</td>\n",
       "      <td>0.0</td>\n",
       "      <td>0.0</td>\n",
       "      <td>0.0</td>\n",
       "      <td>0.0</td>\n",
       "      <td>2.0</td>\n",
       "    </tr>\n",
       "    <tr>\n",
       "      <th>ADJ</th>\n",
       "      <td>0.0</td>\n",
       "      <td>8658.0</td>\n",
       "      <td>13.0</td>\n",
       "      <td>257.0</td>\n",
       "      <td>0.0</td>\n",
       "      <td>0.0</td>\n",
       "      <td>249.0</td>\n",
       "      <td>0.0</td>\n",
       "      <td>0.0</td>\n",
       "      <td>1.0</td>\n",
       "      <td>48.0</td>\n",
       "      <td>0.0</td>\n",
       "    </tr>\n",
       "    <tr>\n",
       "      <th>ADP</th>\n",
       "      <td>0.0</td>\n",
       "      <td>6.0</td>\n",
       "      <td>15843.0</td>\n",
       "      <td>228.0</td>\n",
       "      <td>0.0</td>\n",
       "      <td>84.0</td>\n",
       "      <td>2.0</td>\n",
       "      <td>0.0</td>\n",
       "      <td>42.0</td>\n",
       "      <td>250.0</td>\n",
       "      <td>29.0</td>\n",
       "      <td>1.0</td>\n",
       "    </tr>\n",
       "    <tr>\n",
       "      <th>ADV</th>\n",
       "      <td>0.0</td>\n",
       "      <td>272.0</td>\n",
       "      <td>224.0</td>\n",
       "      <td>6505.0</td>\n",
       "      <td>9.0</td>\n",
       "      <td>12.0</td>\n",
       "      <td>19.0</td>\n",
       "      <td>0.0</td>\n",
       "      <td>0.0</td>\n",
       "      <td>26.0</td>\n",
       "      <td>10.0</td>\n",
       "      <td>1.0</td>\n",
       "    </tr>\n",
       "    <tr>\n",
       "      <th>CONJ</th>\n",
       "      <td>0.0</td>\n",
       "      <td>0.0</td>\n",
       "      <td>23.0</td>\n",
       "      <td>12.0</td>\n",
       "      <td>4121.0</td>\n",
       "      <td>4.0</td>\n",
       "      <td>0.0</td>\n",
       "      <td>0.0</td>\n",
       "      <td>0.0</td>\n",
       "      <td>0.0</td>\n",
       "      <td>0.0</td>\n",
       "      <td>0.0</td>\n",
       "    </tr>\n",
       "    <tr>\n",
       "      <th>DET</th>\n",
       "      <td>0.0</td>\n",
       "      <td>0.0</td>\n",
       "      <td>16.0</td>\n",
       "      <td>22.0</td>\n",
       "      <td>6.0</td>\n",
       "      <td>15749.0</td>\n",
       "      <td>5.0</td>\n",
       "      <td>0.0</td>\n",
       "      <td>30.0</td>\n",
       "      <td>0.0</td>\n",
       "      <td>0.0</td>\n",
       "      <td>0.0</td>\n",
       "    </tr>\n",
       "    <tr>\n",
       "      <th>NOUN</th>\n",
       "      <td>0.0</td>\n",
       "      <td>131.0</td>\n",
       "      <td>2.0</td>\n",
       "      <td>22.0</td>\n",
       "      <td>0.0</td>\n",
       "      <td>1.0</td>\n",
       "      <td>29059.0</td>\n",
       "      <td>30.0</td>\n",
       "      <td>2.0</td>\n",
       "      <td>13.0</td>\n",
       "      <td>616.0</td>\n",
       "      <td>9.0</td>\n",
       "    </tr>\n",
       "    <tr>\n",
       "      <th>NUM</th>\n",
       "      <td>0.0</td>\n",
       "      <td>0.0</td>\n",
       "      <td>0.0</td>\n",
       "      <td>0.0</td>\n",
       "      <td>0.0</td>\n",
       "      <td>0.0</td>\n",
       "      <td>43.0</td>\n",
       "      <td>1557.0</td>\n",
       "      <td>0.0</td>\n",
       "      <td>0.0</td>\n",
       "      <td>0.0</td>\n",
       "      <td>0.0</td>\n",
       "    </tr>\n",
       "    <tr>\n",
       "      <th>PRON</th>\n",
       "      <td>0.0</td>\n",
       "      <td>0.0</td>\n",
       "      <td>29.0</td>\n",
       "      <td>1.0</td>\n",
       "      <td>0.0</td>\n",
       "      <td>153.0</td>\n",
       "      <td>0.0</td>\n",
       "      <td>0.0</td>\n",
       "      <td>6565.0</td>\n",
       "      <td>2.0</td>\n",
       "      <td>0.0</td>\n",
       "      <td>0.0</td>\n",
       "    </tr>\n",
       "    <tr>\n",
       "      <th>PRT</th>\n",
       "      <td>0.0</td>\n",
       "      <td>17.0</td>\n",
       "      <td>169.0</td>\n",
       "      <td>83.0</td>\n",
       "      <td>0.0</td>\n",
       "      <td>0.0</td>\n",
       "      <td>7.0</td>\n",
       "      <td>0.0</td>\n",
       "      <td>0.0</td>\n",
       "      <td>3527.0</td>\n",
       "      <td>5.0</td>\n",
       "      <td>0.0</td>\n",
       "    </tr>\n",
       "    <tr>\n",
       "      <th>VERB</th>\n",
       "      <td>0.0</td>\n",
       "      <td>48.0</td>\n",
       "      <td>17.0</td>\n",
       "      <td>5.0</td>\n",
       "      <td>0.0</td>\n",
       "      <td>0.0</td>\n",
       "      <td>309.0</td>\n",
       "      <td>0.0</td>\n",
       "      <td>0.0</td>\n",
       "      <td>0.0</td>\n",
       "      <td>21697.0</td>\n",
       "      <td>3.0</td>\n",
       "    </tr>\n",
       "    <tr>\n",
       "      <th>X</th>\n",
       "      <td>0.0</td>\n",
       "      <td>0.0</td>\n",
       "      <td>0.0</td>\n",
       "      <td>0.0</td>\n",
       "      <td>1.0</td>\n",
       "      <td>0.0</td>\n",
       "      <td>0.0</td>\n",
       "      <td>0.0</td>\n",
       "      <td>0.0</td>\n",
       "      <td>0.0</td>\n",
       "      <td>0.0</td>\n",
       "      <td>42.0</td>\n",
       "    </tr>\n",
       "  </tbody>\n",
       "</table>\n",
       "</div>"
      ],
      "text/plain": [
       "            .     ADJ      ADP     ADV    CONJ      DET     NOUN     NUM  \\\n",
       ".     17453.0     0.0      0.0     0.0     0.0      0.0      0.0     0.0   \n",
       "ADJ       0.0  8658.0     13.0   257.0     0.0      0.0    249.0     0.0   \n",
       "ADP       0.0     6.0  15843.0   228.0     0.0     84.0      2.0     0.0   \n",
       "ADV       0.0   272.0    224.0  6505.0     9.0     12.0     19.0     0.0   \n",
       "CONJ      0.0     0.0     23.0    12.0  4121.0      4.0      0.0     0.0   \n",
       "DET       0.0     0.0     16.0    22.0     6.0  15749.0      5.0     0.0   \n",
       "NOUN      0.0   131.0      2.0    22.0     0.0      1.0  29059.0    30.0   \n",
       "NUM       0.0     0.0      0.0     0.0     0.0      0.0     43.0  1557.0   \n",
       "PRON      0.0     0.0     29.0     1.0     0.0    153.0      0.0     0.0   \n",
       "PRT       0.0    17.0    169.0    83.0     0.0      0.0      7.0     0.0   \n",
       "VERB      0.0    48.0     17.0     5.0     0.0      0.0    309.0     0.0   \n",
       "X         0.0     0.0      0.0     0.0     1.0      0.0      0.0     0.0   \n",
       "\n",
       "        PRON     PRT     VERB     X  \n",
       ".        0.0     0.0      0.0   2.0  \n",
       "ADJ      0.0     1.0     48.0   0.0  \n",
       "ADP     42.0   250.0     29.0   1.0  \n",
       "ADV      0.0    26.0     10.0   1.0  \n",
       "CONJ     0.0     0.0      0.0   0.0  \n",
       "DET     30.0     0.0      0.0   0.0  \n",
       "NOUN     2.0    13.0    616.0   9.0  \n",
       "NUM      0.0     0.0      0.0   0.0  \n",
       "PRON  6565.0     2.0      0.0   0.0  \n",
       "PRT      0.0  3527.0      5.0   0.0  \n",
       "VERB     0.0     0.0  21697.0   3.0  \n",
       "X        0.0     0.0      0.0  42.0  "
      ]
     },
     "execution_count": 58,
     "metadata": {},
     "output_type": "execute_result"
    }
   ],
   "source": [
    "pd.DataFrame(confusion_matrix,index=tagset,columns=tagset)"
   ]
  },
  {
   "cell_type": "code",
   "execution_count": 62,
   "metadata": {},
   "outputs": [
    {
     "name": "stdout",
     "output_type": "stream",
     "text": [
      "Sentence : b100-56761\n",
      "Words :\n",
      "\t`` I see the girl but I don't see the car with slacks on '' .\n",
      "\\True tags :\n",
      "\t. PRON VERB DET NOUN CONJ PRON VERB VERB DET NOUN ADP NOUN PRT . .\n",
      "\n",
      "Predicted tags :\n",
      "\t. PRON VERB DET NOUN CONJ PRON VERB VERB DET NOUN ADP NOUN ADP . .\n"
     ]
    }
   ],
   "source": [
    "wrong_key = wrong_keys[0]\n",
    "exemple = test_set[wrong_key]\n",
    "print(\"Sentence : \"+wrong_key)\n",
    "print(\"Words :\")\n",
    "print(\"\\t\" + \" \".join(exemple[\"sentence\"]))\n",
    "print(\"\\True tags :\")\n",
    "print(\"\\t\" +\" \".join(exemple[\"tag\"]))\n",
    "print(\"\\nPredicted tags :\")\n",
    "tags = [states[y] for y in viterbi_algorithm([inv_vocabulary[x] for x in exemple[\"sentence\"]],pi_0,P,B)[0]]\n",
    "print(\"\\t\" + \" \".join(tags))"
   ]
  },
  {
   "cell_type": "markdown",
   "metadata": {},
   "source": [
    "Test sur un exemple indépendant"
   ]
  },
  {
   "cell_type": "code",
   "execution_count": 63,
   "metadata": {},
   "outputs": [
    {
     "data": {
      "text/plain": [
       "['I', 'am', 'a', 'student', '.']"
      ]
     },
     "execution_count": 63,
     "metadata": {},
     "output_type": "execute_result"
    }
   ],
   "source": [
    "sample = \"I am a student.\"\n",
    "sample = sample[:-1] + \" .\"\n",
    "sample.split(\" \")"
   ]
  },
  {
   "cell_type": "code",
   "execution_count": 64,
   "metadata": {},
   "outputs": [
    {
     "data": {
      "text/plain": [
       "['PRON', 'VERB', 'DET', 'NOUN', '.']"
      ]
     },
     "execution_count": 64,
     "metadata": {},
     "output_type": "execute_result"
    }
   ],
   "source": [
    "tags,proba = viterbi_algorithm([inv_vocabulary[x] for x in sample.split(\" \")],pi_0,P,B)\n",
    "[states[x] for x in tags]"
   ]
  },
  {
   "cell_type": "markdown",
   "metadata": {},
   "source": [
    "# Conclusion\n",
    "\n",
    "Imprécisions des flottants\n",
    "\n",
    "[Librairie qui permet de faire des HMM](https://pomegranate.readthedocs.io/en/latest/index.html) exemple dans [ce projet](https://github.com/soheil-mpg/Hidden-Markov-Model-POS)"
   ]
  }
 ],
 "metadata": {
  "kernelspec": {
   "display_name": "Python 3",
   "language": "python",
   "name": "python3"
  },
  "language_info": {
   "codemirror_mode": {
    "name": "ipython",
    "version": 3
   },
   "file_extension": ".py",
   "mimetype": "text/x-python",
   "name": "python",
   "nbconvert_exporter": "python",
   "pygments_lexer": "ipython3",
   "version": "3.8.5"
  }
 },
 "nbformat": 4,
 "nbformat_minor": 4
}
